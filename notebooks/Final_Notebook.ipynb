{
 "cells": [
  {
   "cell_type": "markdown",
   "metadata": {},
   "source": [
    "# Predicting Employee Attrition"
   ]
  },
  {
   "cell_type": "markdown",
   "metadata": {},
   "source": [
    "In this project I address employee churn, which is a significant expense for companies. The Society for Human Resource Management estimates the average replacement cost of a salaried employee is the equivalent of six to nine months’ salary. Using the IBM HR Analytics Employee Attrition & Performance dataset from Kaggle and well established data science techniques, I build a classification model to help better predict when an employee is a flight risk. This will allow  management an opportunity to intervene before an employee leaves which can help reduce employee churn and the cost of replacing and training new employees. "
   ]
  },
  {
   "cell_type": "markdown",
   "metadata": {},
   "source": [
    "## Import Packages"
   ]
  },
  {
   "cell_type": "markdown",
   "metadata": {},
   "source": [
    "These are the packages I used for the project."
   ]
  },
  {
   "cell_type": "code",
   "execution_count": 705,
   "metadata": {},
   "outputs": [
    {
     "name": "stdout",
     "output_type": "stream",
     "text": [
      "The autoreload extension is already loaded. To reload it, use:\n",
      "  %reload_ext autoreload\n"
     ]
    }
   ],
   "source": [
    "import pandas as pd\n",
    "import numpy as np\n",
    "\n",
    "import matplotlib.pyplot as plt\n",
    "import seaborn as sns\n",
    "from matplotlib.ticker import PercentFormatter\n",
    "\n",
    "from sklearn.preprocessing import OneHotEncoder, StandardScaler\n",
    "\n",
    "from sklearn.linear_model import LogisticRegression\n",
    "from sklearn import svm\n",
    "from sklearn import tree\n",
    "from sklearn.neighbors import KNeighborsClassifier\n",
    "\n",
    "from sklearn.model_selection import train_test_split, cross_val_score, KFold\n",
    "from sklearn.feature_selection import SelectFromModel\n",
    "\n",
    "from sklearn.model_selection import GridSearchCV\n",
    "from sklearn.ensemble import RandomForestClassifier\n",
    "from sklearn.metrics import f1_score\n",
    "\t\n",
    "from sklearn.metrics import roc_auc_score\n",
    "\n",
    "from sklearn.metrics import plot_confusion_matrix\n",
    "from sklearn.metrics import accuracy_score, confusion_matrix, classification_report\n",
    "\n",
    "\n",
    "from sklearn.utils import resample\n",
    "\n",
    "%load_ext autoreload\n",
    "%autoreload 2"
   ]
  },
  {
   "cell_type": "markdown",
   "metadata": {},
   "source": [
    "## Dataset"
   ]
  },
  {
   "cell_type": "markdown",
   "metadata": {},
   "source": [
    "The data set used for this project is the IBM HR Analytics Employee Attrition & Performance dataset from Kaggle and created by IBM. It contains 23,436 rows representing individual employees. There are 32 different features including age, education, gender, marital status, overtime worked, etc. Attrition is the target."
   ]
  },
  {
   "cell_type": "markdown",
   "metadata": {},
   "source": [
    "## Import Data"
   ]
  },
  {
   "cell_type": "code",
   "execution_count": 706,
   "metadata": {},
   "outputs": [
    {
     "name": "stderr",
     "output_type": "stream",
     "text": [
      "/Applications/anaconda3/lib/python3.7/site-packages/IPython/core/interactiveshell.py:3063: DtypeWarning: Columns (5,8,10) have mixed types.Specify dtype option on import or set low_memory=False.\n",
      "  interactivity=interactivity, compiler=compiler, result=result)\n"
     ]
    }
   ],
   "source": [
    "# load the dataset\n",
    "df = pd.read_csv(\"../data/IBM_HR_Data_newer.csv\")\n",
    "\n",
    "# set so it displays all columns\n",
    "pd.set_option('display.max_columns', None)"
   ]
  },
  {
   "cell_type": "markdown",
   "metadata": {},
   "source": [
    "## Data Exploration & Manipulation"
   ]
  },
  {
   "cell_type": "code",
   "execution_count": 707,
   "metadata": {},
   "outputs": [
    {
     "data": {
      "text/html": [
       "<div>\n",
       "<style scoped>\n",
       "    .dataframe tbody tr th:only-of-type {\n",
       "        vertical-align: middle;\n",
       "    }\n",
       "\n",
       "    .dataframe tbody tr th {\n",
       "        vertical-align: top;\n",
       "    }\n",
       "\n",
       "    .dataframe thead th {\n",
       "        text-align: right;\n",
       "    }\n",
       "</style>\n",
       "<table border=\"1\" class=\"dataframe\">\n",
       "  <thead>\n",
       "    <tr style=\"text-align: right;\">\n",
       "      <th></th>\n",
       "      <th>Age</th>\n",
       "      <th>Attrition</th>\n",
       "      <th>BusinessTravel</th>\n",
       "      <th>DailyRate</th>\n",
       "      <th>Department</th>\n",
       "      <th>DistanceFromHome</th>\n",
       "      <th>Education</th>\n",
       "      <th>EducationField</th>\n",
       "      <th>EmployeeCount</th>\n",
       "      <th>EmployeeNumber</th>\n",
       "      <th>Application ID</th>\n",
       "      <th>EnvironmentSatisfaction</th>\n",
       "      <th>Gender</th>\n",
       "      <th>HourlyRate</th>\n",
       "      <th>JobInvolvement</th>\n",
       "      <th>JobLevel</th>\n",
       "      <th>JobRole</th>\n",
       "      <th>JobSatisfaction</th>\n",
       "      <th>MaritalStatus</th>\n",
       "      <th>MonthlyIncome</th>\n",
       "      <th>MonthlyRate</th>\n",
       "      <th>NumCompaniesWorked</th>\n",
       "      <th>Over18</th>\n",
       "      <th>OverTime</th>\n",
       "      <th>PercentSalaryHike</th>\n",
       "      <th>PerformanceRating</th>\n",
       "      <th>RelationshipSatisfaction</th>\n",
       "      <th>StandardHours</th>\n",
       "      <th>StockOptionLevel</th>\n",
       "      <th>TotalWorkingYears</th>\n",
       "      <th>TrainingTimesLastYear</th>\n",
       "      <th>WorkLifeBalance</th>\n",
       "      <th>YearsAtCompany</th>\n",
       "      <th>YearsInCurrentRole</th>\n",
       "      <th>YearsSinceLastPromotion</th>\n",
       "      <th>YearsWithCurrManager</th>\n",
       "      <th>Employee Source</th>\n",
       "    </tr>\n",
       "  </thead>\n",
       "  <tbody>\n",
       "    <tr>\n",
       "      <th>0</th>\n",
       "      <td>41.0</td>\n",
       "      <td>Voluntary Resignation</td>\n",
       "      <td>Travel_Rarely</td>\n",
       "      <td>1102.0</td>\n",
       "      <td>Sales</td>\n",
       "      <td>1</td>\n",
       "      <td>2.0</td>\n",
       "      <td>Life Sciences</td>\n",
       "      <td>1</td>\n",
       "      <td>1</td>\n",
       "      <td>123456</td>\n",
       "      <td>2.0</td>\n",
       "      <td>Female</td>\n",
       "      <td>94</td>\n",
       "      <td>3.0</td>\n",
       "      <td>2.0</td>\n",
       "      <td>Sales Executive</td>\n",
       "      <td>4</td>\n",
       "      <td>Single</td>\n",
       "      <td>5993</td>\n",
       "      <td>19479.0</td>\n",
       "      <td>8.0</td>\n",
       "      <td>Y</td>\n",
       "      <td>Yes</td>\n",
       "      <td>11</td>\n",
       "      <td>3.0</td>\n",
       "      <td>1.0</td>\n",
       "      <td>80.0</td>\n",
       "      <td>0.0</td>\n",
       "      <td>8.0</td>\n",
       "      <td>0.0</td>\n",
       "      <td>1.0</td>\n",
       "      <td>6.0</td>\n",
       "      <td>4.0</td>\n",
       "      <td>0.0</td>\n",
       "      <td>5.0</td>\n",
       "      <td>Referral</td>\n",
       "    </tr>\n",
       "    <tr>\n",
       "      <th>1</th>\n",
       "      <td>41.0</td>\n",
       "      <td>Voluntary Resignation</td>\n",
       "      <td>Travel_Rarely</td>\n",
       "      <td>1102.0</td>\n",
       "      <td>Sales</td>\n",
       "      <td>1</td>\n",
       "      <td>2.0</td>\n",
       "      <td>Life Sciences</td>\n",
       "      <td>1</td>\n",
       "      <td>1</td>\n",
       "      <td>123458</td>\n",
       "      <td>2.0</td>\n",
       "      <td>Female</td>\n",
       "      <td>94</td>\n",
       "      <td>3.0</td>\n",
       "      <td>2.0</td>\n",
       "      <td>Sales Executive</td>\n",
       "      <td>4</td>\n",
       "      <td>Single</td>\n",
       "      <td>5993</td>\n",
       "      <td>19479.0</td>\n",
       "      <td>4.0</td>\n",
       "      <td>Y</td>\n",
       "      <td>Yes</td>\n",
       "      <td>11</td>\n",
       "      <td>3.0</td>\n",
       "      <td>1.0</td>\n",
       "      <td>80.0</td>\n",
       "      <td>0.0</td>\n",
       "      <td>8.0</td>\n",
       "      <td>0.0</td>\n",
       "      <td>1.0</td>\n",
       "      <td>6.0</td>\n",
       "      <td>4.0</td>\n",
       "      <td>0.0</td>\n",
       "      <td>5.0</td>\n",
       "      <td>Referral</td>\n",
       "    </tr>\n",
       "    <tr>\n",
       "      <th>2</th>\n",
       "      <td>41.0</td>\n",
       "      <td>Voluntary Resignation</td>\n",
       "      <td>Travel_Rarely</td>\n",
       "      <td>1102.0</td>\n",
       "      <td>Sales</td>\n",
       "      <td>1</td>\n",
       "      <td>2.0</td>\n",
       "      <td>Life Sciences</td>\n",
       "      <td>1</td>\n",
       "      <td>7</td>\n",
       "      <td>123462</td>\n",
       "      <td>2.0</td>\n",
       "      <td>Female</td>\n",
       "      <td>94</td>\n",
       "      <td>3.0</td>\n",
       "      <td>2.0</td>\n",
       "      <td>Sales Executive</td>\n",
       "      <td>4</td>\n",
       "      <td>Single</td>\n",
       "      <td>5993</td>\n",
       "      <td>19479.0</td>\n",
       "      <td>8.0</td>\n",
       "      <td>Y</td>\n",
       "      <td>Yes</td>\n",
       "      <td>11</td>\n",
       "      <td>3.0</td>\n",
       "      <td>1.0</td>\n",
       "      <td>80.0</td>\n",
       "      <td>0.0</td>\n",
       "      <td>8.0</td>\n",
       "      <td>0.0</td>\n",
       "      <td>1.0</td>\n",
       "      <td>6.0</td>\n",
       "      <td>4.0</td>\n",
       "      <td>0.0</td>\n",
       "      <td>5.0</td>\n",
       "      <td>Referral</td>\n",
       "    </tr>\n",
       "    <tr>\n",
       "      <th>3</th>\n",
       "      <td>41.0</td>\n",
       "      <td>Voluntary Resignation</td>\n",
       "      <td>Travel_Rarely</td>\n",
       "      <td>1102.0</td>\n",
       "      <td>Sales</td>\n",
       "      <td>1</td>\n",
       "      <td>2.0</td>\n",
       "      <td>Life Sciences</td>\n",
       "      <td>1</td>\n",
       "      <td>8</td>\n",
       "      <td>123463</td>\n",
       "      <td>2.0</td>\n",
       "      <td>Female</td>\n",
       "      <td>94</td>\n",
       "      <td>3.0</td>\n",
       "      <td>2.0</td>\n",
       "      <td>Sales Executive</td>\n",
       "      <td>4</td>\n",
       "      <td>Single</td>\n",
       "      <td>5993</td>\n",
       "      <td>19479.0</td>\n",
       "      <td>4.0</td>\n",
       "      <td>Y</td>\n",
       "      <td>Yes</td>\n",
       "      <td>11</td>\n",
       "      <td>3.0</td>\n",
       "      <td>1.0</td>\n",
       "      <td>80.0</td>\n",
       "      <td>0.0</td>\n",
       "      <td>8.0</td>\n",
       "      <td>0.0</td>\n",
       "      <td>1.0</td>\n",
       "      <td>6.0</td>\n",
       "      <td>4.0</td>\n",
       "      <td>0.0</td>\n",
       "      <td>5.0</td>\n",
       "      <td>Referral</td>\n",
       "    </tr>\n",
       "    <tr>\n",
       "      <th>4</th>\n",
       "      <td>41.0</td>\n",
       "      <td>Voluntary Resignation</td>\n",
       "      <td>Travel_Rarely</td>\n",
       "      <td>1102.0</td>\n",
       "      <td>Sales</td>\n",
       "      <td>1</td>\n",
       "      <td>2.0</td>\n",
       "      <td>Life Sciences</td>\n",
       "      <td>1</td>\n",
       "      <td>9</td>\n",
       "      <td>123464</td>\n",
       "      <td>2.0</td>\n",
       "      <td>Female</td>\n",
       "      <td>94</td>\n",
       "      <td>3.0</td>\n",
       "      <td>2.0</td>\n",
       "      <td>Sales Executive</td>\n",
       "      <td>4</td>\n",
       "      <td>Single</td>\n",
       "      <td>5993</td>\n",
       "      <td>19479.0</td>\n",
       "      <td>8.0</td>\n",
       "      <td>Y</td>\n",
       "      <td>Yes</td>\n",
       "      <td>11</td>\n",
       "      <td>3.0</td>\n",
       "      <td>1.0</td>\n",
       "      <td>80.0</td>\n",
       "      <td>0.0</td>\n",
       "      <td>8.0</td>\n",
       "      <td>0.0</td>\n",
       "      <td>1.0</td>\n",
       "      <td>6.0</td>\n",
       "      <td>4.0</td>\n",
       "      <td>0.0</td>\n",
       "      <td>5.0</td>\n",
       "      <td>Referral</td>\n",
       "    </tr>\n",
       "  </tbody>\n",
       "</table>\n",
       "</div>"
      ],
      "text/plain": [
       "    Age              Attrition BusinessTravel  DailyRate Department  \\\n",
       "0  41.0  Voluntary Resignation  Travel_Rarely     1102.0      Sales   \n",
       "1  41.0  Voluntary Resignation  Travel_Rarely     1102.0      Sales   \n",
       "2  41.0  Voluntary Resignation  Travel_Rarely     1102.0      Sales   \n",
       "3  41.0  Voluntary Resignation  Travel_Rarely     1102.0      Sales   \n",
       "4  41.0  Voluntary Resignation  Travel_Rarely     1102.0      Sales   \n",
       "\n",
       "  DistanceFromHome  Education EducationField EmployeeCount EmployeeNumber  \\\n",
       "0                1        2.0  Life Sciences             1              1   \n",
       "1                1        2.0  Life Sciences             1              1   \n",
       "2                1        2.0  Life Sciences             1              7   \n",
       "3                1        2.0  Life Sciences             1              8   \n",
       "4                1        2.0  Life Sciences             1              9   \n",
       "\n",
       "  Application ID  EnvironmentSatisfaction  Gender HourlyRate  JobInvolvement  \\\n",
       "0         123456                      2.0  Female         94             3.0   \n",
       "1         123458                      2.0  Female         94             3.0   \n",
       "2         123462                      2.0  Female         94             3.0   \n",
       "3         123463                      2.0  Female         94             3.0   \n",
       "4         123464                      2.0  Female         94             3.0   \n",
       "\n",
       "   JobLevel          JobRole JobSatisfaction MaritalStatus MonthlyIncome  \\\n",
       "0       2.0  Sales Executive               4        Single          5993   \n",
       "1       2.0  Sales Executive               4        Single          5993   \n",
       "2       2.0  Sales Executive               4        Single          5993   \n",
       "3       2.0  Sales Executive               4        Single          5993   \n",
       "4       2.0  Sales Executive               4        Single          5993   \n",
       "\n",
       "   MonthlyRate  NumCompaniesWorked Over18 OverTime PercentSalaryHike  \\\n",
       "0      19479.0                 8.0      Y      Yes                11   \n",
       "1      19479.0                 4.0      Y      Yes                11   \n",
       "2      19479.0                 8.0      Y      Yes                11   \n",
       "3      19479.0                 4.0      Y      Yes                11   \n",
       "4      19479.0                 8.0      Y      Yes                11   \n",
       "\n",
       "   PerformanceRating  RelationshipSatisfaction  StandardHours  \\\n",
       "0                3.0                       1.0           80.0   \n",
       "1                3.0                       1.0           80.0   \n",
       "2                3.0                       1.0           80.0   \n",
       "3                3.0                       1.0           80.0   \n",
       "4                3.0                       1.0           80.0   \n",
       "\n",
       "   StockOptionLevel  TotalWorkingYears  TrainingTimesLastYear  \\\n",
       "0               0.0                8.0                    0.0   \n",
       "1               0.0                8.0                    0.0   \n",
       "2               0.0                8.0                    0.0   \n",
       "3               0.0                8.0                    0.0   \n",
       "4               0.0                8.0                    0.0   \n",
       "\n",
       "   WorkLifeBalance  YearsAtCompany  YearsInCurrentRole  \\\n",
       "0              1.0             6.0                 4.0   \n",
       "1              1.0             6.0                 4.0   \n",
       "2              1.0             6.0                 4.0   \n",
       "3              1.0             6.0                 4.0   \n",
       "4              1.0             6.0                 4.0   \n",
       "\n",
       "   YearsSinceLastPromotion  YearsWithCurrManager Employee Source  \n",
       "0                      0.0                   5.0        Referral  \n",
       "1                      0.0                   5.0        Referral  \n",
       "2                      0.0                   5.0        Referral  \n",
       "3                      0.0                   5.0        Referral  \n",
       "4                      0.0                   5.0        Referral  "
      ]
     },
     "execution_count": 707,
     "metadata": {},
     "output_type": "execute_result"
    }
   ],
   "source": [
    "# look at the dataframe\n",
    "df.head()"
   ]
  },
  {
   "cell_type": "code",
   "execution_count": 708,
   "metadata": {},
   "outputs": [
    {
     "data": {
      "text/html": [
       "<div>\n",
       "<style scoped>\n",
       "    .dataframe tbody tr th:only-of-type {\n",
       "        vertical-align: middle;\n",
       "    }\n",
       "\n",
       "    .dataframe tbody tr th {\n",
       "        vertical-align: top;\n",
       "    }\n",
       "\n",
       "    .dataframe thead th {\n",
       "        text-align: right;\n",
       "    }\n",
       "</style>\n",
       "<table border=\"1\" class=\"dataframe\">\n",
       "  <thead>\n",
       "    <tr style=\"text-align: right;\">\n",
       "      <th></th>\n",
       "      <th>Age</th>\n",
       "      <th>DailyRate</th>\n",
       "      <th>Education</th>\n",
       "      <th>EnvironmentSatisfaction</th>\n",
       "      <th>JobInvolvement</th>\n",
       "      <th>JobLevel</th>\n",
       "      <th>MonthlyRate</th>\n",
       "      <th>NumCompaniesWorked</th>\n",
       "      <th>PerformanceRating</th>\n",
       "      <th>RelationshipSatisfaction</th>\n",
       "      <th>StandardHours</th>\n",
       "      <th>StockOptionLevel</th>\n",
       "      <th>TotalWorkingYears</th>\n",
       "      <th>TrainingTimesLastYear</th>\n",
       "      <th>WorkLifeBalance</th>\n",
       "      <th>YearsAtCompany</th>\n",
       "      <th>YearsInCurrentRole</th>\n",
       "      <th>YearsSinceLastPromotion</th>\n",
       "      <th>YearsWithCurrManager</th>\n",
       "    </tr>\n",
       "  </thead>\n",
       "  <tbody>\n",
       "    <tr>\n",
       "      <th>count</th>\n",
       "      <td>23433.000000</td>\n",
       "      <td>23424.000000</td>\n",
       "      <td>23424.000000</td>\n",
       "      <td>23427.000000</td>\n",
       "      <td>23427.000000</td>\n",
       "      <td>23429.000000</td>\n",
       "      <td>23425.000000</td>\n",
       "      <td>23427.000000</td>\n",
       "      <td>23426.000000</td>\n",
       "      <td>23428.000000</td>\n",
       "      <td>23426.000000</td>\n",
       "      <td>23427.000000</td>\n",
       "      <td>23428.00000</td>\n",
       "      <td>23425.000000</td>\n",
       "      <td>23426.000000</td>\n",
       "      <td>23423.000000</td>\n",
       "      <td>23421.000000</td>\n",
       "      <td>23425.000000</td>\n",
       "      <td>23429.000000</td>\n",
       "    </tr>\n",
       "    <tr>\n",
       "      <th>mean</th>\n",
       "      <td>36.936671</td>\n",
       "      <td>801.828765</td>\n",
       "      <td>2.910050</td>\n",
       "      <td>13.681777</td>\n",
       "      <td>2.733811</td>\n",
       "      <td>2.064023</td>\n",
       "      <td>14304.343821</td>\n",
       "      <td>3.887779</td>\n",
       "      <td>3.155852</td>\n",
       "      <td>2.713334</td>\n",
       "      <td>79.993469</td>\n",
       "      <td>0.799846</td>\n",
       "      <td>11.25922</td>\n",
       "      <td>2.800171</td>\n",
       "      <td>2.761803</td>\n",
       "      <td>7.010887</td>\n",
       "      <td>4.227445</td>\n",
       "      <td>2.183821</td>\n",
       "      <td>4.127577</td>\n",
       "    </tr>\n",
       "    <tr>\n",
       "      <th>std</th>\n",
       "      <td>9.137432</td>\n",
       "      <td>403.206166</td>\n",
       "      <td>1.024931</td>\n",
       "      <td>1186.544372</td>\n",
       "      <td>0.836860</td>\n",
       "      <td>1.105421</td>\n",
       "      <td>7102.636293</td>\n",
       "      <td>155.332904</td>\n",
       "      <td>0.371215</td>\n",
       "      <td>1.080030</td>\n",
       "      <td>0.706850</td>\n",
       "      <td>1.122454</td>\n",
       "      <td>7.77237</td>\n",
       "      <td>1.308527</td>\n",
       "      <td>0.705788</td>\n",
       "      <td>6.138394</td>\n",
       "      <td>3.627284</td>\n",
       "      <td>3.218615</td>\n",
       "      <td>3.572379</td>\n",
       "    </tr>\n",
       "    <tr>\n",
       "      <th>min</th>\n",
       "      <td>18.000000</td>\n",
       "      <td>102.000000</td>\n",
       "      <td>1.000000</td>\n",
       "      <td>1.000000</td>\n",
       "      <td>1.000000</td>\n",
       "      <td>1.000000</td>\n",
       "      <td>2094.000000</td>\n",
       "      <td>0.000000</td>\n",
       "      <td>3.000000</td>\n",
       "      <td>1.000000</td>\n",
       "      <td>3.000000</td>\n",
       "      <td>0.000000</td>\n",
       "      <td>0.00000</td>\n",
       "      <td>0.000000</td>\n",
       "      <td>1.000000</td>\n",
       "      <td>0.000000</td>\n",
       "      <td>0.000000</td>\n",
       "      <td>0.000000</td>\n",
       "      <td>0.000000</td>\n",
       "    </tr>\n",
       "    <tr>\n",
       "      <th>25%</th>\n",
       "      <td>30.000000</td>\n",
       "      <td>465.000000</td>\n",
       "      <td>2.000000</td>\n",
       "      <td>2.000000</td>\n",
       "      <td>2.000000</td>\n",
       "      <td>1.000000</td>\n",
       "      <td>8053.000000</td>\n",
       "      <td>1.000000</td>\n",
       "      <td>3.000000</td>\n",
       "      <td>2.000000</td>\n",
       "      <td>80.000000</td>\n",
       "      <td>0.000000</td>\n",
       "      <td>6.00000</td>\n",
       "      <td>2.000000</td>\n",
       "      <td>2.000000</td>\n",
       "      <td>3.000000</td>\n",
       "      <td>2.000000</td>\n",
       "      <td>0.000000</td>\n",
       "      <td>2.000000</td>\n",
       "    </tr>\n",
       "    <tr>\n",
       "      <th>50%</th>\n",
       "      <td>36.000000</td>\n",
       "      <td>802.000000</td>\n",
       "      <td>3.000000</td>\n",
       "      <td>3.000000</td>\n",
       "      <td>3.000000</td>\n",
       "      <td>2.000000</td>\n",
       "      <td>14222.000000</td>\n",
       "      <td>2.000000</td>\n",
       "      <td>3.000000</td>\n",
       "      <td>3.000000</td>\n",
       "      <td>80.000000</td>\n",
       "      <td>1.000000</td>\n",
       "      <td>10.00000</td>\n",
       "      <td>3.000000</td>\n",
       "      <td>3.000000</td>\n",
       "      <td>5.000000</td>\n",
       "      <td>3.000000</td>\n",
       "      <td>1.000000</td>\n",
       "      <td>3.000000</td>\n",
       "    </tr>\n",
       "    <tr>\n",
       "      <th>75%</th>\n",
       "      <td>43.000000</td>\n",
       "      <td>1157.000000</td>\n",
       "      <td>4.000000</td>\n",
       "      <td>4.000000</td>\n",
       "      <td>3.000000</td>\n",
       "      <td>3.000000</td>\n",
       "      <td>20460.000000</td>\n",
       "      <td>4.000000</td>\n",
       "      <td>3.000000</td>\n",
       "      <td>4.000000</td>\n",
       "      <td>80.000000</td>\n",
       "      <td>1.000000</td>\n",
       "      <td>15.00000</td>\n",
       "      <td>3.000000</td>\n",
       "      <td>3.000000</td>\n",
       "      <td>10.000000</td>\n",
       "      <td>7.000000</td>\n",
       "      <td>3.000000</td>\n",
       "      <td>7.000000</td>\n",
       "    </tr>\n",
       "    <tr>\n",
       "      <th>max</th>\n",
       "      <td>60.000000</td>\n",
       "      <td>1499.000000</td>\n",
       "      <td>6.000000</td>\n",
       "      <td>129588.000000</td>\n",
       "      <td>54.000000</td>\n",
       "      <td>5.000000</td>\n",
       "      <td>26999.000000</td>\n",
       "      <td>23258.000000</td>\n",
       "      <td>13.000000</td>\n",
       "      <td>4.000000</td>\n",
       "      <td>80.000000</td>\n",
       "      <td>80.000000</td>\n",
       "      <td>40.00000</td>\n",
       "      <td>30.000000</td>\n",
       "      <td>4.000000</td>\n",
       "      <td>40.000000</td>\n",
       "      <td>22.000000</td>\n",
       "      <td>17.000000</td>\n",
       "      <td>17.000000</td>\n",
       "    </tr>\n",
       "  </tbody>\n",
       "</table>\n",
       "</div>"
      ],
      "text/plain": [
       "                Age     DailyRate     Education  EnvironmentSatisfaction  \\\n",
       "count  23433.000000  23424.000000  23424.000000             23427.000000   \n",
       "mean      36.936671    801.828765      2.910050                13.681777   \n",
       "std        9.137432    403.206166      1.024931              1186.544372   \n",
       "min       18.000000    102.000000      1.000000                 1.000000   \n",
       "25%       30.000000    465.000000      2.000000                 2.000000   \n",
       "50%       36.000000    802.000000      3.000000                 3.000000   \n",
       "75%       43.000000   1157.000000      4.000000                 4.000000   \n",
       "max       60.000000   1499.000000      6.000000            129588.000000   \n",
       "\n",
       "       JobInvolvement      JobLevel   MonthlyRate  NumCompaniesWorked  \\\n",
       "count    23427.000000  23429.000000  23425.000000        23427.000000   \n",
       "mean         2.733811      2.064023  14304.343821            3.887779   \n",
       "std          0.836860      1.105421   7102.636293          155.332904   \n",
       "min          1.000000      1.000000   2094.000000            0.000000   \n",
       "25%          2.000000      1.000000   8053.000000            1.000000   \n",
       "50%          3.000000      2.000000  14222.000000            2.000000   \n",
       "75%          3.000000      3.000000  20460.000000            4.000000   \n",
       "max         54.000000      5.000000  26999.000000        23258.000000   \n",
       "\n",
       "       PerformanceRating  RelationshipSatisfaction  StandardHours  \\\n",
       "count       23426.000000              23428.000000   23426.000000   \n",
       "mean            3.155852                  2.713334      79.993469   \n",
       "std             0.371215                  1.080030       0.706850   \n",
       "min             3.000000                  1.000000       3.000000   \n",
       "25%             3.000000                  2.000000      80.000000   \n",
       "50%             3.000000                  3.000000      80.000000   \n",
       "75%             3.000000                  4.000000      80.000000   \n",
       "max            13.000000                  4.000000      80.000000   \n",
       "\n",
       "       StockOptionLevel  TotalWorkingYears  TrainingTimesLastYear  \\\n",
       "count      23427.000000        23428.00000           23425.000000   \n",
       "mean           0.799846           11.25922               2.800171   \n",
       "std            1.122454            7.77237               1.308527   \n",
       "min            0.000000            0.00000               0.000000   \n",
       "25%            0.000000            6.00000               2.000000   \n",
       "50%            1.000000           10.00000               3.000000   \n",
       "75%            1.000000           15.00000               3.000000   \n",
       "max           80.000000           40.00000              30.000000   \n",
       "\n",
       "       WorkLifeBalance  YearsAtCompany  YearsInCurrentRole  \\\n",
       "count     23426.000000    23423.000000        23421.000000   \n",
       "mean          2.761803        7.010887            4.227445   \n",
       "std           0.705788        6.138394            3.627284   \n",
       "min           1.000000        0.000000            0.000000   \n",
       "25%           2.000000        3.000000            2.000000   \n",
       "50%           3.000000        5.000000            3.000000   \n",
       "75%           3.000000       10.000000            7.000000   \n",
       "max           4.000000       40.000000           22.000000   \n",
       "\n",
       "       YearsSinceLastPromotion  YearsWithCurrManager  \n",
       "count             23425.000000          23429.000000  \n",
       "mean                  2.183821              4.127577  \n",
       "std                   3.218615              3.572379  \n",
       "min                   0.000000              0.000000  \n",
       "25%                   0.000000              2.000000  \n",
       "50%                   1.000000              3.000000  \n",
       "75%                   3.000000              7.000000  \n",
       "max                  17.000000             17.000000  "
      ]
     },
     "execution_count": 708,
     "metadata": {},
     "output_type": "execute_result"
    }
   ],
   "source": [
    "# look at the numeric columns\n",
    "df.describe()"
   ]
  },
  {
   "cell_type": "code",
   "execution_count": 709,
   "metadata": {
    "scrolled": true
   },
   "outputs": [
    {
     "data": {
      "text/plain": [
       "Age                          3\n",
       "Attrition                   13\n",
       "BusinessTravel               8\n",
       "DailyRate                   12\n",
       "Department                  11\n",
       "DistanceFromHome             9\n",
       "Education                   12\n",
       "EducationField               9\n",
       "EmployeeCount                5\n",
       "EmployeeNumber               1\n",
       "Application ID               3\n",
       "EnvironmentSatisfaction      9\n",
       "Gender                      10\n",
       "HourlyRate                   9\n",
       "JobInvolvement               9\n",
       "JobLevel                     7\n",
       "JobRole                      9\n",
       "JobSatisfaction              9\n",
       "MaritalStatus               11\n",
       "MonthlyIncome               13\n",
       "MonthlyRate                 11\n",
       "NumCompaniesWorked           9\n",
       "Over18                      10\n",
       "OverTime                    12\n",
       "PercentSalaryHike           14\n",
       "PerformanceRating           10\n",
       "RelationshipSatisfaction     8\n",
       "StandardHours               10\n",
       "StockOptionLevel             9\n",
       "TotalWorkingYears            8\n",
       "TrainingTimesLastYear       11\n",
       "WorkLifeBalance             10\n",
       "YearsAtCompany              13\n",
       "YearsInCurrentRole          15\n",
       "YearsSinceLastPromotion     11\n",
       "YearsWithCurrManager         7\n",
       "Employee Source             12\n",
       "dtype: int64"
      ]
     },
     "execution_count": 709,
     "metadata": {},
     "output_type": "execute_result"
    }
   ],
   "source": [
    "# check for NAs\n",
    "df.isna().sum()"
   ]
  },
  {
   "cell_type": "code",
   "execution_count": 710,
   "metadata": {},
   "outputs": [],
   "source": [
    "# as there are not many NAs I will drop them from the dataframe\n",
    "df = df.dropna()"
   ]
  },
  {
   "cell_type": "code",
   "execution_count": 711,
   "metadata": {},
   "outputs": [
    {
     "data": {
      "text/plain": [
       "array(['Voluntary Resignation', 'Current employee'], dtype=object)"
      ]
     },
     "execution_count": 711,
     "metadata": {},
     "output_type": "execute_result"
    }
   ],
   "source": [
    "# look at values in target 'Attrition'\n",
    "df.Attrition.unique()"
   ]
  },
  {
   "cell_type": "code",
   "execution_count": 712,
   "metadata": {},
   "outputs": [],
   "source": [
    "# make target column binary\n",
    "cleanup_att = {\"Attrition\": {\"Current employee\": 0, \"Voluntary Resignation\": 1}}"
   ]
  },
  {
   "cell_type": "code",
   "execution_count": 713,
   "metadata": {},
   "outputs": [
    {
     "data": {
      "text/html": [
       "<div>\n",
       "<style scoped>\n",
       "    .dataframe tbody tr th:only-of-type {\n",
       "        vertical-align: middle;\n",
       "    }\n",
       "\n",
       "    .dataframe tbody tr th {\n",
       "        vertical-align: top;\n",
       "    }\n",
       "\n",
       "    .dataframe thead th {\n",
       "        text-align: right;\n",
       "    }\n",
       "</style>\n",
       "<table border=\"1\" class=\"dataframe\">\n",
       "  <thead>\n",
       "    <tr style=\"text-align: right;\">\n",
       "      <th></th>\n",
       "      <th>Age</th>\n",
       "      <th>Attrition</th>\n",
       "      <th>BusinessTravel</th>\n",
       "      <th>DailyRate</th>\n",
       "      <th>Department</th>\n",
       "      <th>DistanceFromHome</th>\n",
       "      <th>Education</th>\n",
       "      <th>EducationField</th>\n",
       "      <th>EmployeeCount</th>\n",
       "      <th>EmployeeNumber</th>\n",
       "      <th>Application ID</th>\n",
       "      <th>EnvironmentSatisfaction</th>\n",
       "      <th>Gender</th>\n",
       "      <th>HourlyRate</th>\n",
       "      <th>JobInvolvement</th>\n",
       "      <th>JobLevel</th>\n",
       "      <th>JobRole</th>\n",
       "      <th>JobSatisfaction</th>\n",
       "      <th>MaritalStatus</th>\n",
       "      <th>MonthlyIncome</th>\n",
       "      <th>MonthlyRate</th>\n",
       "      <th>NumCompaniesWorked</th>\n",
       "      <th>Over18</th>\n",
       "      <th>OverTime</th>\n",
       "      <th>PercentSalaryHike</th>\n",
       "      <th>PerformanceRating</th>\n",
       "      <th>RelationshipSatisfaction</th>\n",
       "      <th>StandardHours</th>\n",
       "      <th>StockOptionLevel</th>\n",
       "      <th>TotalWorkingYears</th>\n",
       "      <th>TrainingTimesLastYear</th>\n",
       "      <th>WorkLifeBalance</th>\n",
       "      <th>YearsAtCompany</th>\n",
       "      <th>YearsInCurrentRole</th>\n",
       "      <th>YearsSinceLastPromotion</th>\n",
       "      <th>YearsWithCurrManager</th>\n",
       "      <th>Employee Source</th>\n",
       "    </tr>\n",
       "  </thead>\n",
       "  <tbody>\n",
       "    <tr>\n",
       "      <th>0</th>\n",
       "      <td>41.0</td>\n",
       "      <td>1</td>\n",
       "      <td>Travel_Rarely</td>\n",
       "      <td>1102.0</td>\n",
       "      <td>Sales</td>\n",
       "      <td>1</td>\n",
       "      <td>2.0</td>\n",
       "      <td>Life Sciences</td>\n",
       "      <td>1</td>\n",
       "      <td>1</td>\n",
       "      <td>123456</td>\n",
       "      <td>2.0</td>\n",
       "      <td>Female</td>\n",
       "      <td>94</td>\n",
       "      <td>3.0</td>\n",
       "      <td>2.0</td>\n",
       "      <td>Sales Executive</td>\n",
       "      <td>4</td>\n",
       "      <td>Single</td>\n",
       "      <td>5993</td>\n",
       "      <td>19479.0</td>\n",
       "      <td>8.0</td>\n",
       "      <td>Y</td>\n",
       "      <td>Yes</td>\n",
       "      <td>11</td>\n",
       "      <td>3.0</td>\n",
       "      <td>1.0</td>\n",
       "      <td>80.0</td>\n",
       "      <td>0.0</td>\n",
       "      <td>8.0</td>\n",
       "      <td>0.0</td>\n",
       "      <td>1.0</td>\n",
       "      <td>6.0</td>\n",
       "      <td>4.0</td>\n",
       "      <td>0.0</td>\n",
       "      <td>5.0</td>\n",
       "      <td>Referral</td>\n",
       "    </tr>\n",
       "    <tr>\n",
       "      <th>1</th>\n",
       "      <td>41.0</td>\n",
       "      <td>1</td>\n",
       "      <td>Travel_Rarely</td>\n",
       "      <td>1102.0</td>\n",
       "      <td>Sales</td>\n",
       "      <td>1</td>\n",
       "      <td>2.0</td>\n",
       "      <td>Life Sciences</td>\n",
       "      <td>1</td>\n",
       "      <td>1</td>\n",
       "      <td>123458</td>\n",
       "      <td>2.0</td>\n",
       "      <td>Female</td>\n",
       "      <td>94</td>\n",
       "      <td>3.0</td>\n",
       "      <td>2.0</td>\n",
       "      <td>Sales Executive</td>\n",
       "      <td>4</td>\n",
       "      <td>Single</td>\n",
       "      <td>5993</td>\n",
       "      <td>19479.0</td>\n",
       "      <td>4.0</td>\n",
       "      <td>Y</td>\n",
       "      <td>Yes</td>\n",
       "      <td>11</td>\n",
       "      <td>3.0</td>\n",
       "      <td>1.0</td>\n",
       "      <td>80.0</td>\n",
       "      <td>0.0</td>\n",
       "      <td>8.0</td>\n",
       "      <td>0.0</td>\n",
       "      <td>1.0</td>\n",
       "      <td>6.0</td>\n",
       "      <td>4.0</td>\n",
       "      <td>0.0</td>\n",
       "      <td>5.0</td>\n",
       "      <td>Referral</td>\n",
       "    </tr>\n",
       "    <tr>\n",
       "      <th>2</th>\n",
       "      <td>41.0</td>\n",
       "      <td>1</td>\n",
       "      <td>Travel_Rarely</td>\n",
       "      <td>1102.0</td>\n",
       "      <td>Sales</td>\n",
       "      <td>1</td>\n",
       "      <td>2.0</td>\n",
       "      <td>Life Sciences</td>\n",
       "      <td>1</td>\n",
       "      <td>7</td>\n",
       "      <td>123462</td>\n",
       "      <td>2.0</td>\n",
       "      <td>Female</td>\n",
       "      <td>94</td>\n",
       "      <td>3.0</td>\n",
       "      <td>2.0</td>\n",
       "      <td>Sales Executive</td>\n",
       "      <td>4</td>\n",
       "      <td>Single</td>\n",
       "      <td>5993</td>\n",
       "      <td>19479.0</td>\n",
       "      <td>8.0</td>\n",
       "      <td>Y</td>\n",
       "      <td>Yes</td>\n",
       "      <td>11</td>\n",
       "      <td>3.0</td>\n",
       "      <td>1.0</td>\n",
       "      <td>80.0</td>\n",
       "      <td>0.0</td>\n",
       "      <td>8.0</td>\n",
       "      <td>0.0</td>\n",
       "      <td>1.0</td>\n",
       "      <td>6.0</td>\n",
       "      <td>4.0</td>\n",
       "      <td>0.0</td>\n",
       "      <td>5.0</td>\n",
       "      <td>Referral</td>\n",
       "    </tr>\n",
       "    <tr>\n",
       "      <th>3</th>\n",
       "      <td>41.0</td>\n",
       "      <td>1</td>\n",
       "      <td>Travel_Rarely</td>\n",
       "      <td>1102.0</td>\n",
       "      <td>Sales</td>\n",
       "      <td>1</td>\n",
       "      <td>2.0</td>\n",
       "      <td>Life Sciences</td>\n",
       "      <td>1</td>\n",
       "      <td>8</td>\n",
       "      <td>123463</td>\n",
       "      <td>2.0</td>\n",
       "      <td>Female</td>\n",
       "      <td>94</td>\n",
       "      <td>3.0</td>\n",
       "      <td>2.0</td>\n",
       "      <td>Sales Executive</td>\n",
       "      <td>4</td>\n",
       "      <td>Single</td>\n",
       "      <td>5993</td>\n",
       "      <td>19479.0</td>\n",
       "      <td>4.0</td>\n",
       "      <td>Y</td>\n",
       "      <td>Yes</td>\n",
       "      <td>11</td>\n",
       "      <td>3.0</td>\n",
       "      <td>1.0</td>\n",
       "      <td>80.0</td>\n",
       "      <td>0.0</td>\n",
       "      <td>8.0</td>\n",
       "      <td>0.0</td>\n",
       "      <td>1.0</td>\n",
       "      <td>6.0</td>\n",
       "      <td>4.0</td>\n",
       "      <td>0.0</td>\n",
       "      <td>5.0</td>\n",
       "      <td>Referral</td>\n",
       "    </tr>\n",
       "    <tr>\n",
       "      <th>4</th>\n",
       "      <td>41.0</td>\n",
       "      <td>1</td>\n",
       "      <td>Travel_Rarely</td>\n",
       "      <td>1102.0</td>\n",
       "      <td>Sales</td>\n",
       "      <td>1</td>\n",
       "      <td>2.0</td>\n",
       "      <td>Life Sciences</td>\n",
       "      <td>1</td>\n",
       "      <td>9</td>\n",
       "      <td>123464</td>\n",
       "      <td>2.0</td>\n",
       "      <td>Female</td>\n",
       "      <td>94</td>\n",
       "      <td>3.0</td>\n",
       "      <td>2.0</td>\n",
       "      <td>Sales Executive</td>\n",
       "      <td>4</td>\n",
       "      <td>Single</td>\n",
       "      <td>5993</td>\n",
       "      <td>19479.0</td>\n",
       "      <td>8.0</td>\n",
       "      <td>Y</td>\n",
       "      <td>Yes</td>\n",
       "      <td>11</td>\n",
       "      <td>3.0</td>\n",
       "      <td>1.0</td>\n",
       "      <td>80.0</td>\n",
       "      <td>0.0</td>\n",
       "      <td>8.0</td>\n",
       "      <td>0.0</td>\n",
       "      <td>1.0</td>\n",
       "      <td>6.0</td>\n",
       "      <td>4.0</td>\n",
       "      <td>0.0</td>\n",
       "      <td>5.0</td>\n",
       "      <td>Referral</td>\n",
       "    </tr>\n",
       "  </tbody>\n",
       "</table>\n",
       "</div>"
      ],
      "text/plain": [
       "    Age  Attrition BusinessTravel  DailyRate Department DistanceFromHome  \\\n",
       "0  41.0          1  Travel_Rarely     1102.0      Sales                1   \n",
       "1  41.0          1  Travel_Rarely     1102.0      Sales                1   \n",
       "2  41.0          1  Travel_Rarely     1102.0      Sales                1   \n",
       "3  41.0          1  Travel_Rarely     1102.0      Sales                1   \n",
       "4  41.0          1  Travel_Rarely     1102.0      Sales                1   \n",
       "\n",
       "   Education EducationField EmployeeCount EmployeeNumber Application ID  \\\n",
       "0        2.0  Life Sciences             1              1         123456   \n",
       "1        2.0  Life Sciences             1              1         123458   \n",
       "2        2.0  Life Sciences             1              7         123462   \n",
       "3        2.0  Life Sciences             1              8         123463   \n",
       "4        2.0  Life Sciences             1              9         123464   \n",
       "\n",
       "   EnvironmentSatisfaction  Gender HourlyRate  JobInvolvement  JobLevel  \\\n",
       "0                      2.0  Female         94             3.0       2.0   \n",
       "1                      2.0  Female         94             3.0       2.0   \n",
       "2                      2.0  Female         94             3.0       2.0   \n",
       "3                      2.0  Female         94             3.0       2.0   \n",
       "4                      2.0  Female         94             3.0       2.0   \n",
       "\n",
       "           JobRole JobSatisfaction MaritalStatus MonthlyIncome  MonthlyRate  \\\n",
       "0  Sales Executive               4        Single          5993      19479.0   \n",
       "1  Sales Executive               4        Single          5993      19479.0   \n",
       "2  Sales Executive               4        Single          5993      19479.0   \n",
       "3  Sales Executive               4        Single          5993      19479.0   \n",
       "4  Sales Executive               4        Single          5993      19479.0   \n",
       "\n",
       "   NumCompaniesWorked Over18 OverTime PercentSalaryHike  PerformanceRating  \\\n",
       "0                 8.0      Y      Yes                11                3.0   \n",
       "1                 4.0      Y      Yes                11                3.0   \n",
       "2                 8.0      Y      Yes                11                3.0   \n",
       "3                 4.0      Y      Yes                11                3.0   \n",
       "4                 8.0      Y      Yes                11                3.0   \n",
       "\n",
       "   RelationshipSatisfaction  StandardHours  StockOptionLevel  \\\n",
       "0                       1.0           80.0               0.0   \n",
       "1                       1.0           80.0               0.0   \n",
       "2                       1.0           80.0               0.0   \n",
       "3                       1.0           80.0               0.0   \n",
       "4                       1.0           80.0               0.0   \n",
       "\n",
       "   TotalWorkingYears  TrainingTimesLastYear  WorkLifeBalance  YearsAtCompany  \\\n",
       "0                8.0                    0.0              1.0             6.0   \n",
       "1                8.0                    0.0              1.0             6.0   \n",
       "2                8.0                    0.0              1.0             6.0   \n",
       "3                8.0                    0.0              1.0             6.0   \n",
       "4                8.0                    0.0              1.0             6.0   \n",
       "\n",
       "   YearsInCurrentRole  YearsSinceLastPromotion  YearsWithCurrManager  \\\n",
       "0                 4.0                      0.0                   5.0   \n",
       "1                 4.0                      0.0                   5.0   \n",
       "2                 4.0                      0.0                   5.0   \n",
       "3                 4.0                      0.0                   5.0   \n",
       "4                 4.0                      0.0                   5.0   \n",
       "\n",
       "  Employee Source  \n",
       "0        Referral  \n",
       "1        Referral  \n",
       "2        Referral  \n",
       "3        Referral  \n",
       "4        Referral  "
      ]
     },
     "execution_count": 713,
     "metadata": {},
     "output_type": "execute_result"
    }
   ],
   "source": [
    "df.replace(cleanup_att, inplace=True)\n",
    "df.head()"
   ]
  },
  {
   "cell_type": "code",
   "execution_count": 714,
   "metadata": {},
   "outputs": [
    {
     "data": {
      "text/html": [
       "<div>\n",
       "<style scoped>\n",
       "    .dataframe tbody tr th:only-of-type {\n",
       "        vertical-align: middle;\n",
       "    }\n",
       "\n",
       "    .dataframe tbody tr th {\n",
       "        vertical-align: top;\n",
       "    }\n",
       "\n",
       "    .dataframe thead th {\n",
       "        text-align: right;\n",
       "    }\n",
       "</style>\n",
       "<table border=\"1\" class=\"dataframe\">\n",
       "  <thead>\n",
       "    <tr style=\"text-align: right;\">\n",
       "      <th></th>\n",
       "      <th>Age</th>\n",
       "      <th>Attrition</th>\n",
       "      <th>BusinessTravel</th>\n",
       "      <th>DailyRate</th>\n",
       "      <th>Department</th>\n",
       "      <th>DistanceFromHome</th>\n",
       "      <th>Education</th>\n",
       "      <th>EducationField</th>\n",
       "      <th>EnvironmentSatisfaction</th>\n",
       "      <th>Gender</th>\n",
       "      <th>HourlyRate</th>\n",
       "      <th>JobInvolvement</th>\n",
       "      <th>JobLevel</th>\n",
       "      <th>JobRole</th>\n",
       "      <th>JobSatisfaction</th>\n",
       "      <th>MaritalStatus</th>\n",
       "      <th>MonthlyIncome</th>\n",
       "      <th>MonthlyRate</th>\n",
       "      <th>NumCompaniesWorked</th>\n",
       "      <th>OverTime</th>\n",
       "      <th>PercentSalaryHike</th>\n",
       "      <th>PerformanceRating</th>\n",
       "      <th>RelationshipSatisfaction</th>\n",
       "      <th>StockOptionLevel</th>\n",
       "      <th>TotalWorkingYears</th>\n",
       "      <th>TrainingTimesLastYear</th>\n",
       "      <th>WorkLifeBalance</th>\n",
       "      <th>YearsAtCompany</th>\n",
       "      <th>YearsInCurrentRole</th>\n",
       "      <th>YearsSinceLastPromotion</th>\n",
       "      <th>YearsWithCurrManager</th>\n",
       "      <th>Employee Source</th>\n",
       "    </tr>\n",
       "  </thead>\n",
       "  <tbody>\n",
       "    <tr>\n",
       "      <th>0</th>\n",
       "      <td>41.0</td>\n",
       "      <td>1</td>\n",
       "      <td>Travel_Rarely</td>\n",
       "      <td>1102.0</td>\n",
       "      <td>Sales</td>\n",
       "      <td>1</td>\n",
       "      <td>2.0</td>\n",
       "      <td>Life Sciences</td>\n",
       "      <td>2.0</td>\n",
       "      <td>Female</td>\n",
       "      <td>94</td>\n",
       "      <td>3.0</td>\n",
       "      <td>2.0</td>\n",
       "      <td>Sales Executive</td>\n",
       "      <td>4</td>\n",
       "      <td>Single</td>\n",
       "      <td>5993</td>\n",
       "      <td>19479.0</td>\n",
       "      <td>8.0</td>\n",
       "      <td>Yes</td>\n",
       "      <td>11</td>\n",
       "      <td>3.0</td>\n",
       "      <td>1.0</td>\n",
       "      <td>0.0</td>\n",
       "      <td>8.0</td>\n",
       "      <td>0.0</td>\n",
       "      <td>1.0</td>\n",
       "      <td>6.0</td>\n",
       "      <td>4.0</td>\n",
       "      <td>0.0</td>\n",
       "      <td>5.0</td>\n",
       "      <td>Referral</td>\n",
       "    </tr>\n",
       "    <tr>\n",
       "      <th>1</th>\n",
       "      <td>41.0</td>\n",
       "      <td>1</td>\n",
       "      <td>Travel_Rarely</td>\n",
       "      <td>1102.0</td>\n",
       "      <td>Sales</td>\n",
       "      <td>1</td>\n",
       "      <td>2.0</td>\n",
       "      <td>Life Sciences</td>\n",
       "      <td>2.0</td>\n",
       "      <td>Female</td>\n",
       "      <td>94</td>\n",
       "      <td>3.0</td>\n",
       "      <td>2.0</td>\n",
       "      <td>Sales Executive</td>\n",
       "      <td>4</td>\n",
       "      <td>Single</td>\n",
       "      <td>5993</td>\n",
       "      <td>19479.0</td>\n",
       "      <td>4.0</td>\n",
       "      <td>Yes</td>\n",
       "      <td>11</td>\n",
       "      <td>3.0</td>\n",
       "      <td>1.0</td>\n",
       "      <td>0.0</td>\n",
       "      <td>8.0</td>\n",
       "      <td>0.0</td>\n",
       "      <td>1.0</td>\n",
       "      <td>6.0</td>\n",
       "      <td>4.0</td>\n",
       "      <td>0.0</td>\n",
       "      <td>5.0</td>\n",
       "      <td>Referral</td>\n",
       "    </tr>\n",
       "    <tr>\n",
       "      <th>2</th>\n",
       "      <td>41.0</td>\n",
       "      <td>1</td>\n",
       "      <td>Travel_Rarely</td>\n",
       "      <td>1102.0</td>\n",
       "      <td>Sales</td>\n",
       "      <td>1</td>\n",
       "      <td>2.0</td>\n",
       "      <td>Life Sciences</td>\n",
       "      <td>2.0</td>\n",
       "      <td>Female</td>\n",
       "      <td>94</td>\n",
       "      <td>3.0</td>\n",
       "      <td>2.0</td>\n",
       "      <td>Sales Executive</td>\n",
       "      <td>4</td>\n",
       "      <td>Single</td>\n",
       "      <td>5993</td>\n",
       "      <td>19479.0</td>\n",
       "      <td>8.0</td>\n",
       "      <td>Yes</td>\n",
       "      <td>11</td>\n",
       "      <td>3.0</td>\n",
       "      <td>1.0</td>\n",
       "      <td>0.0</td>\n",
       "      <td>8.0</td>\n",
       "      <td>0.0</td>\n",
       "      <td>1.0</td>\n",
       "      <td>6.0</td>\n",
       "      <td>4.0</td>\n",
       "      <td>0.0</td>\n",
       "      <td>5.0</td>\n",
       "      <td>Referral</td>\n",
       "    </tr>\n",
       "    <tr>\n",
       "      <th>3</th>\n",
       "      <td>41.0</td>\n",
       "      <td>1</td>\n",
       "      <td>Travel_Rarely</td>\n",
       "      <td>1102.0</td>\n",
       "      <td>Sales</td>\n",
       "      <td>1</td>\n",
       "      <td>2.0</td>\n",
       "      <td>Life Sciences</td>\n",
       "      <td>2.0</td>\n",
       "      <td>Female</td>\n",
       "      <td>94</td>\n",
       "      <td>3.0</td>\n",
       "      <td>2.0</td>\n",
       "      <td>Sales Executive</td>\n",
       "      <td>4</td>\n",
       "      <td>Single</td>\n",
       "      <td>5993</td>\n",
       "      <td>19479.0</td>\n",
       "      <td>4.0</td>\n",
       "      <td>Yes</td>\n",
       "      <td>11</td>\n",
       "      <td>3.0</td>\n",
       "      <td>1.0</td>\n",
       "      <td>0.0</td>\n",
       "      <td>8.0</td>\n",
       "      <td>0.0</td>\n",
       "      <td>1.0</td>\n",
       "      <td>6.0</td>\n",
       "      <td>4.0</td>\n",
       "      <td>0.0</td>\n",
       "      <td>5.0</td>\n",
       "      <td>Referral</td>\n",
       "    </tr>\n",
       "    <tr>\n",
       "      <th>4</th>\n",
       "      <td>41.0</td>\n",
       "      <td>1</td>\n",
       "      <td>Travel_Rarely</td>\n",
       "      <td>1102.0</td>\n",
       "      <td>Sales</td>\n",
       "      <td>1</td>\n",
       "      <td>2.0</td>\n",
       "      <td>Life Sciences</td>\n",
       "      <td>2.0</td>\n",
       "      <td>Female</td>\n",
       "      <td>94</td>\n",
       "      <td>3.0</td>\n",
       "      <td>2.0</td>\n",
       "      <td>Sales Executive</td>\n",
       "      <td>4</td>\n",
       "      <td>Single</td>\n",
       "      <td>5993</td>\n",
       "      <td>19479.0</td>\n",
       "      <td>8.0</td>\n",
       "      <td>Yes</td>\n",
       "      <td>11</td>\n",
       "      <td>3.0</td>\n",
       "      <td>1.0</td>\n",
       "      <td>0.0</td>\n",
       "      <td>8.0</td>\n",
       "      <td>0.0</td>\n",
       "      <td>1.0</td>\n",
       "      <td>6.0</td>\n",
       "      <td>4.0</td>\n",
       "      <td>0.0</td>\n",
       "      <td>5.0</td>\n",
       "      <td>Referral</td>\n",
       "    </tr>\n",
       "  </tbody>\n",
       "</table>\n",
       "</div>"
      ],
      "text/plain": [
       "    Age  Attrition BusinessTravel  DailyRate Department DistanceFromHome  \\\n",
       "0  41.0          1  Travel_Rarely     1102.0      Sales                1   \n",
       "1  41.0          1  Travel_Rarely     1102.0      Sales                1   \n",
       "2  41.0          1  Travel_Rarely     1102.0      Sales                1   \n",
       "3  41.0          1  Travel_Rarely     1102.0      Sales                1   \n",
       "4  41.0          1  Travel_Rarely     1102.0      Sales                1   \n",
       "\n",
       "   Education EducationField  EnvironmentSatisfaction  Gender HourlyRate  \\\n",
       "0        2.0  Life Sciences                      2.0  Female         94   \n",
       "1        2.0  Life Sciences                      2.0  Female         94   \n",
       "2        2.0  Life Sciences                      2.0  Female         94   \n",
       "3        2.0  Life Sciences                      2.0  Female         94   \n",
       "4        2.0  Life Sciences                      2.0  Female         94   \n",
       "\n",
       "   JobInvolvement  JobLevel          JobRole JobSatisfaction MaritalStatus  \\\n",
       "0             3.0       2.0  Sales Executive               4        Single   \n",
       "1             3.0       2.0  Sales Executive               4        Single   \n",
       "2             3.0       2.0  Sales Executive               4        Single   \n",
       "3             3.0       2.0  Sales Executive               4        Single   \n",
       "4             3.0       2.0  Sales Executive               4        Single   \n",
       "\n",
       "  MonthlyIncome  MonthlyRate  NumCompaniesWorked OverTime PercentSalaryHike  \\\n",
       "0          5993      19479.0                 8.0      Yes                11   \n",
       "1          5993      19479.0                 4.0      Yes                11   \n",
       "2          5993      19479.0                 8.0      Yes                11   \n",
       "3          5993      19479.0                 4.0      Yes                11   \n",
       "4          5993      19479.0                 8.0      Yes                11   \n",
       "\n",
       "   PerformanceRating  RelationshipSatisfaction  StockOptionLevel  \\\n",
       "0                3.0                       1.0               0.0   \n",
       "1                3.0                       1.0               0.0   \n",
       "2                3.0                       1.0               0.0   \n",
       "3                3.0                       1.0               0.0   \n",
       "4                3.0                       1.0               0.0   \n",
       "\n",
       "   TotalWorkingYears  TrainingTimesLastYear  WorkLifeBalance  YearsAtCompany  \\\n",
       "0                8.0                    0.0              1.0             6.0   \n",
       "1                8.0                    0.0              1.0             6.0   \n",
       "2                8.0                    0.0              1.0             6.0   \n",
       "3                8.0                    0.0              1.0             6.0   \n",
       "4                8.0                    0.0              1.0             6.0   \n",
       "\n",
       "   YearsInCurrentRole  YearsSinceLastPromotion  YearsWithCurrManager  \\\n",
       "0                 4.0                      0.0                   5.0   \n",
       "1                 4.0                      0.0                   5.0   \n",
       "2                 4.0                      0.0                   5.0   \n",
       "3                 4.0                      0.0                   5.0   \n",
       "4                 4.0                      0.0                   5.0   \n",
       "\n",
       "  Employee Source  \n",
       "0        Referral  \n",
       "1        Referral  \n",
       "2        Referral  \n",
       "3        Referral  \n",
       "4        Referral  "
      ]
     },
     "execution_count": 714,
     "metadata": {},
     "output_type": "execute_result"
    }
   ],
   "source": [
    "# drop columns that contain no unique values or that aren't useful for modeling\n",
    "df = df.drop(['EmployeeCount', 'EmployeeNumber', 'Application ID', 'Over18', 'StandardHours'], axis=1)\n",
    "df.head()"
   ]
  },
  {
   "cell_type": "code",
   "execution_count": 715,
   "metadata": {},
   "outputs": [],
   "source": [
    "# convert 'DistanceFromHome', 'HourlyRate', 'JobSatisfaction', 'PercentSalaryHike', and 'MonthlyIncome' to floats \n",
    "# to eliminate warning received when adding in categorical features "
   ]
  },
  {
   "cell_type": "code",
   "execution_count": 716,
   "metadata": {},
   "outputs": [],
   "source": [
    "df['DistanceFromHome'] = df['DistanceFromHome'].astype(float)"
   ]
  },
  {
   "cell_type": "code",
   "execution_count": 717,
   "metadata": {},
   "outputs": [],
   "source": [
    "df['HourlyRate'] = df['HourlyRate'].astype(float)"
   ]
  },
  {
   "cell_type": "code",
   "execution_count": 718,
   "metadata": {},
   "outputs": [],
   "source": [
    "df['JobSatisfaction'] = df['HourlyRate'].astype(float)"
   ]
  },
  {
   "cell_type": "code",
   "execution_count": 719,
   "metadata": {},
   "outputs": [],
   "source": [
    "df['PercentSalaryHike'] = df['PercentSalaryHike'].astype(float)"
   ]
  },
  {
   "cell_type": "code",
   "execution_count": 720,
   "metadata": {},
   "outputs": [],
   "source": [
    "df['MonthlyIncome'] = df['MonthlyIncome'].astype(float)"
   ]
  },
  {
   "cell_type": "code",
   "execution_count": 721,
   "metadata": {},
   "outputs": [],
   "source": [
    "# identify target/split off target\n",
    "X = df.drop('Attrition', axis=1)\n",
    "y = df.Attrition"
   ]
  },
  {
   "cell_type": "code",
   "execution_count": 722,
   "metadata": {},
   "outputs": [
    {
     "data": {
      "text/plain": [
       "0    0.841665\n",
       "1    0.158335\n",
       "Name: Attrition, dtype: float64"
      ]
     },
     "execution_count": 722,
     "metadata": {},
     "output_type": "execute_result"
    }
   ],
   "source": [
    "# target balance\n",
    "df.Attrition.value_counts(normalize=True)"
   ]
  },
  {
   "cell_type": "markdown",
   "metadata": {},
   "source": [
    "## Create Train and Test Data"
   ]
  },
  {
   "cell_type": "code",
   "execution_count": 723,
   "metadata": {},
   "outputs": [],
   "source": [
    "# train test split (reminder not to touch test data until the end)\n",
    "X_train, X_test, y_train, y_test = train_test_split(X, y, test_size = 0.20, random_state = 2020)"
   ]
  },
  {
   "cell_type": "markdown",
   "metadata": {},
   "source": [
    "## Create Validation Data"
   ]
  },
  {
   "cell_type": "code",
   "execution_count": 724,
   "metadata": {},
   "outputs": [],
   "source": [
    "# create validation data\n",
    "X_t, X_val, y_t, y_val = train_test_split(X_train, y_train, test_size = 0.20, random_state = 2020)"
   ]
  },
  {
   "cell_type": "markdown",
   "metadata": {},
   "source": [
    "## Pre-process Training Data"
   ]
  },
  {
   "cell_type": "code",
   "execution_count": 725,
   "metadata": {},
   "outputs": [
    {
     "data": {
      "text/plain": [
       "(14850, 23)"
      ]
     },
     "execution_count": 725,
     "metadata": {},
     "output_type": "execute_result"
    }
   ],
   "source": [
    "# isolate numerical columns\n",
    "X_t_num = X_t.select_dtypes(exclude='object')\n",
    "X_t_num.shape"
   ]
  },
  {
   "cell_type": "code",
   "execution_count": 726,
   "metadata": {},
   "outputs": [
    {
     "data": {
      "text/plain": [
       "(14850, 23)"
      ]
     },
     "execution_count": 726,
     "metadata": {},
     "output_type": "execute_result"
    }
   ],
   "source": [
    "# scale numerical data\n",
    "ss = StandardScaler()\n",
    "X_t_sc = pd.DataFrame(ss.fit_transform(X_t_num), index= X_t_num.index, columns= X_t_num.columns)\n",
    "X_t_sc.shape"
   ]
  },
  {
   "cell_type": "code",
   "execution_count": 727,
   "metadata": {},
   "outputs": [
    {
     "data": {
      "text/plain": [
       "(14850, 30)"
      ]
     },
     "execution_count": 727,
     "metadata": {},
     "output_type": "execute_result"
    }
   ],
   "source": [
    "# add in one hot encoded\n",
    "ohe = OneHotEncoder(sparse= False, drop= 'first')\n",
    "\n",
    "X_t_cat = X_t.select_dtypes(include= 'object')\n",
    "\n",
    "#fit transform\n",
    "X_t_oh = pd.DataFrame(ohe.fit_transform(X_t_cat), index= X_t_cat.index, columns=ohe.get_feature_names(X_t_cat.columns))\n",
    "X_t_oh.shape"
   ]
  },
  {
   "cell_type": "code",
   "execution_count": 728,
   "metadata": {},
   "outputs": [
    {
     "data": {
      "text/plain": [
       "(14850, 53)"
      ]
     },
     "execution_count": 728,
     "metadata": {},
     "output_type": "execute_result"
    }
   ],
   "source": [
    "# merge databases\n",
    "X_t_f = pd.merge(X_t_sc, X_t_oh, left_index=True, right_index=True)\n",
    "X_t_f.shape"
   ]
  },
  {
   "cell_type": "code",
   "execution_count": 729,
   "metadata": {},
   "outputs": [],
   "source": [
    "# smote\n",
    "from imblearn.over_sampling import SMOTE\n",
    "smote = SMOTE()\n",
    "X_t_sm, y_t_sm = smote.fit_sample(X_t_f, y_t)"
   ]
  },
  {
   "cell_type": "markdown",
   "metadata": {},
   "source": [
    "## Pre-process Validation Data"
   ]
  },
  {
   "cell_type": "code",
   "execution_count": 730,
   "metadata": {},
   "outputs": [
    {
     "data": {
      "text/plain": [
       "(3713, 23)"
      ]
     },
     "execution_count": 730,
     "metadata": {},
     "output_type": "execute_result"
    }
   ],
   "source": [
    "# isolate numerical columns\n",
    "X_val_num = X_val.select_dtypes(exclude='object')\n",
    "X_val_num.shape"
   ]
  },
  {
   "cell_type": "code",
   "execution_count": 731,
   "metadata": {},
   "outputs": [
    {
     "data": {
      "text/plain": [
       "(3713, 23)"
      ]
     },
     "execution_count": 731,
     "metadata": {},
     "output_type": "execute_result"
    }
   ],
   "source": [
    "# scale numerical data, don't fit transform val data, only transform, don't re-instantiate scaler\n",
    "X_val_sc = pd.DataFrame(ss.transform(X_val_num), index= X_val_num.index, columns= X_val_num.columns)\n",
    "X_val_sc.shape"
   ]
  },
  {
   "cell_type": "code",
   "execution_count": 732,
   "metadata": {},
   "outputs": [
    {
     "data": {
      "text/plain": [
       "(3713, 30)"
      ]
     },
     "execution_count": 732,
     "metadata": {},
     "output_type": "execute_result"
    }
   ],
   "source": [
    "# add in one hot encoded, don't fit transform val data, only transform, don't re-instantiate ohe\n",
    "\n",
    "X_val_cat = X_val.select_dtypes(include= 'object')\n",
    "\n",
    "# transform\n",
    "X_val_oh = pd.DataFrame(ohe.transform(X_val_cat), index= X_val_cat.index, columns=ohe.get_feature_names(X_val_cat.columns))\n",
    "X_val_oh.shape"
   ]
  },
  {
   "cell_type": "code",
   "execution_count": 733,
   "metadata": {},
   "outputs": [
    {
     "data": {
      "text/plain": [
       "(3713, 53)"
      ]
     },
     "execution_count": 733,
     "metadata": {},
     "output_type": "execute_result"
    }
   ],
   "source": [
    "# merge databases\n",
    "X_val_f = pd.merge(X_val_sc, X_val_oh, left_index=True, right_index=True)\n",
    "X_val_f.shape"
   ]
  },
  {
   "cell_type": "markdown",
   "metadata": {},
   "source": [
    "## First Simple Model\n"
   ]
  },
  {
   "cell_type": "markdown",
   "metadata": {},
   "source": [
    "Logistic regression does not perform very well  even after tuning several hyper parameters. I will move onto other models that usually perform better in binary classification such as Random Forest and K Nearest Neighbor"
   ]
  },
  {
   "cell_type": "code",
   "execution_count": 734,
   "metadata": {},
   "outputs": [
    {
     "name": "stderr",
     "output_type": "stream",
     "text": [
      "/Applications/anaconda3/lib/python3.7/site-packages/sklearn/linear_model/_logistic.py:764: ConvergenceWarning: lbfgs failed to converge (status=1):\n",
      "STOP: TOTAL NO. of ITERATIONS REACHED LIMIT.\n",
      "\n",
      "Increase the number of iterations (max_iter) or scale the data as shown in:\n",
      "    https://scikit-learn.org/stable/modules/preprocessing.html\n",
      "Please also refer to the documentation for alternative solver options:\n",
      "    https://scikit-learn.org/stable/modules/linear_model.html#logistic-regression\n",
      "  extra_warning_msg=_LOGISTIC_SOLVER_CONVERGENCE_MSG)\n"
     ]
    },
    {
     "data": {
      "text/plain": [
       "0.6857405630198337"
      ]
     },
     "execution_count": 734,
     "metadata": {},
     "output_type": "execute_result"
    }
   ],
   "source": [
    "# instantiate model\n",
    "lg = LogisticRegression()\n",
    "\n",
    "# fit model\n",
    "lg.fit(X_t_sm, y_t_sm)\n",
    "\n",
    "# check accuracy on training data\n",
    "lg.score(X_t_sm, y_t_sm)"
   ]
  },
  {
   "cell_type": "code",
   "execution_count": 735,
   "metadata": {
    "scrolled": true
   },
   "outputs": [
    {
     "name": "stdout",
     "output_type": "stream",
     "text": [
      "[[2162  987]\n",
      " [ 184  380]]\n",
      "              precision    recall  f1-score   support\n",
      "\n",
      "           0       0.92      0.69      0.79      3149\n",
      "           1       0.28      0.67      0.39       564\n",
      "\n",
      "    accuracy                           0.68      3713\n",
      "   macro avg       0.60      0.68      0.59      3713\n",
      "weighted avg       0.82      0.68      0.73      3713\n",
      "\n"
     ]
    }
   ],
   "source": [
    "# validation testing\n",
    "\n",
    "# set predictions\n",
    "pred_lg_val = lg.predict(X_val_f)\n",
    "\n",
    "# confusion matrix and classification report\n",
    "print(confusion_matrix(y_val, pred_lg_val))\n",
    "print(classification_report(y_val, pred_lg_val))"
   ]
  },
  {
   "cell_type": "code",
   "execution_count": 736,
   "metadata": {},
   "outputs": [
    {
     "data": {
      "image/png": "[encoded data removed]",
      "text/plain": [
       "<Figure size 640x480 with 2 Axes>"
      ]
     },
     "metadata": {},
     "output_type": "display_data"
    }
   ],
   "source": [
    "# plot confusion matrix\n",
    "fig, ax = plt.subplots()\n",
    "\n",
    "fig.suptitle(\"Logistic Regression Validation Confusion Matrix \")\n",
    "\n",
    "plot_confusion_matrix(lg, X_val_f, y_val, ax=ax, cmap=\"plasma\");"
   ]
  },
  {
   "cell_type": "markdown",
   "metadata": {},
   "source": [
    "## Support Vector Machine (SVM)"
   ]
  },
  {
   "cell_type": "code",
   "execution_count": 737,
   "metadata": {},
   "outputs": [
    {
     "data": {
      "text/plain": [
       "0.9833253358925144"
      ]
     },
     "execution_count": 737,
     "metadata": {},
     "output_type": "execute_result"
    }
   ],
   "source": [
    "# instantiate model\n",
    "svm = svm.SVC()\n",
    "\n",
    "# fit model\n",
    "svm.fit(X_t_sm, y_t_sm)\n",
    "\n",
    "# check accuracy on training data\n",
    "svm.score(X_t_sm, y_t_sm)"
   ]
  },
  {
   "cell_type": "code",
   "execution_count": 738,
   "metadata": {},
   "outputs": [
    {
     "name": "stdout",
     "output_type": "stream",
     "text": [
      "[[3048  101]\n",
      " [  29  535]]\n",
      "              precision    recall  f1-score   support\n",
      "\n",
      "           0       0.99      0.97      0.98      3149\n",
      "           1       0.84      0.95      0.89       564\n",
      "\n",
      "    accuracy                           0.96      3713\n",
      "   macro avg       0.92      0.96      0.94      3713\n",
      "weighted avg       0.97      0.96      0.97      3713\n",
      "\n"
     ]
    }
   ],
   "source": [
    "# validation testing\n",
    "\n",
    "# set predictions\n",
    "pred_svm_val = svm.predict(X_val_f)\n",
    "\n",
    "# confusion matrix and classification report\n",
    "print(confusion_matrix(y_val, pred_svm_val))\n",
    "print(classification_report(y_val, pred_svm_val))"
   ]
  },
  {
   "cell_type": "code",
   "execution_count": 739,
   "metadata": {},
   "outputs": [
    {
     "data": {
      "image/png": "[encoded data removed]",
      "text/plain": [
       "<Figure size 640x480 with 2 Axes>"
      ]
     },
     "metadata": {},
     "output_type": "display_data"
    }
   ],
   "source": [
    "# plot confusion matrix\n",
    "fig, ax = plt.subplots()\n",
    "\n",
    "fig.suptitle(\"SVM Validation Confusion Matrix \")\n",
    "\n",
    "plot_confusion_matrix(svm, X_val_f, y_val, ax=ax, cmap=\"plasma\");"
   ]
  },
  {
   "cell_type": "markdown",
   "metadata": {},
   "source": [
    "## Random Forest Classifier"
   ]
  },
  {
   "cell_type": "code",
   "execution_count": 740,
   "metadata": {},
   "outputs": [
    {
     "data": {
      "text/plain": [
       "1.0"
      ]
     },
     "execution_count": 740,
     "metadata": {},
     "output_type": "execute_result"
    }
   ],
   "source": [
    "# instantiate model\n",
    "rfm = RandomForestClassifier()\n",
    "\n",
    "# fit model\n",
    "rfm.fit(X_t_sm, y_t_sm)\n",
    "\n",
    "# check accuracy\n",
    "rfm.score(X_t_sm, y_t_sm)"
   ]
  },
  {
   "cell_type": "code",
   "execution_count": 741,
   "metadata": {},
   "outputs": [
    {
     "name": "stdout",
     "output_type": "stream",
     "text": [
      "[[3149    0]\n",
      " [   8  556]]\n",
      "              precision    recall  f1-score   support\n",
      "\n",
      "           0       1.00      1.00      1.00      3149\n",
      "           1       1.00      0.99      0.99       564\n",
      "\n",
      "    accuracy                           1.00      3713\n",
      "   macro avg       1.00      0.99      1.00      3713\n",
      "weighted avg       1.00      1.00      1.00      3713\n",
      "\n"
     ]
    }
   ],
   "source": [
    "# validation testing\n",
    "\n",
    "# set predictions\n",
    "pred_rfm_val = rfm.predict(X_val_f)\n",
    "\n",
    "# confusion matrix and classification report\n",
    "print(confusion_matrix(y_val, pred_rfm_val))\n",
    "print(classification_report(y_val, pred_rfm_val))"
   ]
  },
  {
   "cell_type": "code",
   "execution_count": 742,
   "metadata": {},
   "outputs": [
    {
     "data": {
      "text/plain": [
       "0.9964011516314779"
      ]
     },
     "execution_count": 742,
     "metadata": {},
     "output_type": "execute_result"
    }
   ],
   "source": [
    "# adjust some hyper parameters to address overfitting\n",
    "\n",
    "# instantiate model\n",
    "rfm2 = RandomForestClassifier(n_estimators=50, max_depth=50, max_leaf_nodes=500)\n",
    "\n",
    "# fit model\n",
    "rfm2.fit(X_t_sm, y_t_sm)\n",
    "\n",
    "# check accuracy on training data\n",
    "rfm2.score(X_t_sm, y_t_sm)"
   ]
  },
  {
   "cell_type": "code",
   "execution_count": 743,
   "metadata": {},
   "outputs": [
    {
     "name": "stdout",
     "output_type": "stream",
     "text": [
      "[[3129   20]\n",
      " [  32  532]]\n",
      "              precision    recall  f1-score   support\n",
      "\n",
      "           0       0.99      0.99      0.99      3149\n",
      "           1       0.96      0.94      0.95       564\n",
      "\n",
      "    accuracy                           0.99      3713\n",
      "   macro avg       0.98      0.97      0.97      3713\n",
      "weighted avg       0.99      0.99      0.99      3713\n",
      "\n"
     ]
    }
   ],
   "source": [
    "# validation testing\n",
    "\n",
    "# set predictions\n",
    "pred_rfm2_val = rfm2.predict(X_val_f)\n",
    "\n",
    "# confusion matrix and classification report\n",
    "print(confusion_matrix(y_val, pred_rfm2_val))\n",
    "print(classification_report(y_val, pred_rfm2_val))"
   ]
  },
  {
   "cell_type": "code",
   "execution_count": 744,
   "metadata": {},
   "outputs": [
    {
     "data": {
      "image/png": "[encoded data removed]",
      "text/plain": [
       "<Figure size 640x480 with 2 Axes>"
      ]
     },
     "metadata": {},
     "output_type": "display_data"
    }
   ],
   "source": [
    "# plot confusion matrix\n",
    "fig, ax = plt.subplots()\n",
    "\n",
    "fig.suptitle(\"Random Forest Validation Confusion Matrix \")\n",
    "\n",
    "plot_confusion_matrix(rfm2, X_val_f, y_val, ax=ax, cmap=\"plasma\");"
   ]
  },
  {
   "cell_type": "markdown",
   "metadata": {},
   "source": [
    "### K Nearest Neighbor (KNN)"
   ]
  },
  {
   "cell_type": "code",
   "execution_count": 745,
   "metadata": {},
   "outputs": [
    {
     "data": {
      "text/plain": [
       "0.9941218809980806"
      ]
     },
     "execution_count": 745,
     "metadata": {},
     "output_type": "execute_result"
    }
   ],
   "source": [
    "# instantiate model\n",
    "knn = KNeighborsClassifier()\n",
    "# fit model\n",
    "knn = knn.fit(X_t_sm, y_t_sm)\n",
    "# check accuracy\n",
    "knn.score(X_t_sm, y_t_sm)"
   ]
  },
  {
   "cell_type": "code",
   "execution_count": 746,
   "metadata": {},
   "outputs": [
    {
     "name": "stdout",
     "output_type": "stream",
     "text": [
      "[[3064   85]\n",
      " [   6  558]]\n",
      "              precision    recall  f1-score   support\n",
      "\n",
      "           0       1.00      0.97      0.99      3149\n",
      "           1       0.87      0.99      0.92       564\n",
      "\n",
      "    accuracy                           0.98      3713\n",
      "   macro avg       0.93      0.98      0.95      3713\n",
      "weighted avg       0.98      0.98      0.98      3713\n",
      "\n"
     ]
    }
   ],
   "source": [
    "# validation testing\n",
    "\n",
    "# set predictions\n",
    "pred_knn_val = knn.predict(X_val_f)\n",
    "\n",
    "# confusion matrix and classification report\n",
    "print(confusion_matrix(y_val, pred_knn_val))\n",
    "print(classification_report(y_val, pred_knn_val))"
   ]
  },
  {
   "cell_type": "code",
   "execution_count": 747,
   "metadata": {},
   "outputs": [
    {
     "data": {
      "image/png": "[encoded data removed]",
      "text/plain": [
       "<Figure size 640x480 with 2 Axes>"
      ]
     },
     "metadata": {},
     "output_type": "display_data"
    }
   ],
   "source": [
    "# plot confusion matrix\n",
    "fig, ax = plt.subplots()\n",
    "\n",
    "fig.suptitle(\"KNN Validation Confusion Matrix \")\n",
    "\n",
    "plot_confusion_matrix(knn, X_val_f, y_val, ax=ax, cmap=\"plasma\");"
   ]
  },
  {
   "cell_type": "markdown",
   "metadata": {},
   "source": [
    "### Model Stacking"
   ]
  },
  {
   "cell_type": "code",
   "execution_count": 748,
   "metadata": {},
   "outputs": [
    {
     "data": {
      "text/plain": [
       "0.9999600127959053"
      ]
     },
     "execution_count": 748,
     "metadata": {},
     "output_type": "execute_result"
    }
   ],
   "source": [
    "from sklearn.ensemble import StackingClassifier\n",
    "\n",
    "# Create Base Learners\n",
    "base_learners = [\n",
    "                 ('rf', RandomForestClassifier(n_estimators=10, random_state=42)),\n",
    "                 ('knn', KNeighborsClassifier(n_neighbors=5))             \n",
    "                ]\n",
    "\n",
    "# Initialize Stacking Classifier with the Meta Learner\n",
    "clf = StackingClassifier(estimators=base_learners, final_estimator=LogisticRegression())\n",
    "\n",
    "# Extract score\n",
    "clf.fit(X_t_sm, y_t_sm).score(X_t_sm, y_t_sm)"
   ]
  },
  {
   "cell_type": "code",
   "execution_count": 749,
   "metadata": {},
   "outputs": [
    {
     "name": "stdout",
     "output_type": "stream",
     "text": [
      "[[3144    5]\n",
      " [   6  558]]\n",
      "              precision    recall  f1-score   support\n",
      "\n",
      "           0       1.00      1.00      1.00      3149\n",
      "           1       0.99      0.99      0.99       564\n",
      "\n",
      "    accuracy                           1.00      3713\n",
      "   macro avg       0.99      0.99      0.99      3713\n",
      "weighted avg       1.00      1.00      1.00      3713\n",
      "\n"
     ]
    }
   ],
   "source": [
    "# validation testing\n",
    "\n",
    "# set predictions\n",
    "pred_clf_val = clf.predict(X_val_f)\n",
    "\n",
    "# confusion matrix and classification report\n",
    "print(confusion_matrix(y_val, pred_clf_val))\n",
    "print(classification_report(y_val, pred_clf_val))"
   ]
  },
  {
   "cell_type": "code",
   "execution_count": 750,
   "metadata": {},
   "outputs": [
    {
     "data": {
      "image/png": "[encoded data removed]",
      "text/plain": [
       "<Figure size 640x480 with 2 Axes>"
      ]
     },
     "metadata": {},
     "output_type": "display_data"
    }
   ],
   "source": [
    "# plot confusion matrix\n",
    "fig, ax = plt.subplots()\n",
    "\n",
    "fig.suptitle(\"CLF Validation Confusion Matrix \")\n",
    "\n",
    "plot_confusion_matrix(clf, X_val_f, y_val, ax=ax, cmap=\"plasma\");"
   ]
  },
  {
   "cell_type": "markdown",
   "metadata": {},
   "source": [
    "## Pre-process Entire Training Set for Final Model"
   ]
  },
  {
   "cell_type": "code",
   "execution_count": 751,
   "metadata": {},
   "outputs": [
    {
     "data": {
      "text/plain": [
       "(18563, 23)"
      ]
     },
     "execution_count": 751,
     "metadata": {},
     "output_type": "execute_result"
    }
   ],
   "source": [
    "# isolate numerical columns\n",
    "X_train_num = X_train.select_dtypes(exclude='object')\n",
    "X_train_num.shape"
   ]
  },
  {
   "cell_type": "code",
   "execution_count": 752,
   "metadata": {},
   "outputs": [
    {
     "data": {
      "text/plain": [
       "(18563, 23)"
      ]
     },
     "execution_count": 752,
     "metadata": {},
     "output_type": "execute_result"
    }
   ],
   "source": [
    "# scale numerical data\n",
    "ss_f = StandardScaler()\n",
    "\n",
    "X_train_sc = pd.DataFrame(ss_f.fit_transform(X_train_num), index= X_train_num.index, columns= X_train_num.columns)\n",
    "X_train_sc.shape"
   ]
  },
  {
   "cell_type": "code",
   "execution_count": 753,
   "metadata": {},
   "outputs": [
    {
     "data": {
      "text/plain": [
       "(18563, 38)"
      ]
     },
     "execution_count": 753,
     "metadata": {},
     "output_type": "execute_result"
    }
   ],
   "source": [
    "# add in one hot encoded\n",
    "ohe_f = OneHotEncoder(sparse= False, handle_unknown='ignore')\n",
    "\n",
    "X_train_cat = X_train.select_dtypes(include= 'object')\n",
    "\n",
    "#fit transform\n",
    "X_train_oh = pd.DataFrame(ohe_f.fit_transform(X_train_cat), index= X_train_cat.index, columns=ohe_f.get_feature_names(X_train_cat.columns))\n",
    "X_train_oh.shape"
   ]
  },
  {
   "cell_type": "code",
   "execution_count": 754,
   "metadata": {},
   "outputs": [
    {
     "data": {
      "text/plain": [
       "(18563, 61)"
      ]
     },
     "execution_count": 754,
     "metadata": {},
     "output_type": "execute_result"
    }
   ],
   "source": [
    "# merge databases\n",
    "X_train_f = pd.merge(X_train_sc, X_train_oh, left_index=True, right_index=True)\n",
    "X_train_f.shape"
   ]
  },
  {
   "cell_type": "code",
   "execution_count": 755,
   "metadata": {},
   "outputs": [],
   "source": [
    "# smote (reminder to self; do not smote test data)\n",
    "sm_f = SMOTE()\n",
    "\n",
    "X_train_sm, y_train_sm = smote.fit_sample(X_train_f, y_train)"
   ]
  },
  {
   "cell_type": "markdown",
   "metadata": {},
   "source": [
    "## Pre-processing Test Data for Final Model"
   ]
  },
  {
   "cell_type": "code",
   "execution_count": 756,
   "metadata": {},
   "outputs": [
    {
     "data": {
      "text/plain": [
       "(4641, 23)"
      ]
     },
     "execution_count": 756,
     "metadata": {},
     "output_type": "execute_result"
    }
   ],
   "source": [
    "# isolate numerical columns\n",
    "X_test_num = X_test.select_dtypes(exclude='object')\n",
    "\n",
    "X_test_num.shape"
   ]
  },
  {
   "cell_type": "code",
   "execution_count": 757,
   "metadata": {},
   "outputs": [
    {
     "data": {
      "text/plain": [
       "(4641, 23)"
      ]
     },
     "execution_count": 757,
     "metadata": {},
     "output_type": "execute_result"
    }
   ],
   "source": [
    "# scale numerical data, don't fit transform test data, only transform, don't re-instantiate scaler\n",
    "X_test_sc = pd.DataFrame(ss_f.transform(X_test_num), index= X_test_num.index, columns= X_test_num.columns)\n",
    "\n",
    "X_test_sc.shape"
   ]
  },
  {
   "cell_type": "code",
   "execution_count": 758,
   "metadata": {},
   "outputs": [],
   "source": [
    "# add in one hot encoded, don't fit transform test data, only transform, don't re-instantiate ohe\n",
    "\n",
    "X_test_cat = X_test.select_dtypes(include= 'object')\n",
    "\n",
    "X_test_oh = pd.DataFrame(ohe_f.transform(X_test_cat), index= X_test_cat.index, columns=ohe_f.get_feature_names(X_test_cat.columns))"
   ]
  },
  {
   "cell_type": "code",
   "execution_count": 759,
   "metadata": {},
   "outputs": [
    {
     "data": {
      "text/plain": [
       "(4641, 61)"
      ]
     },
     "execution_count": 759,
     "metadata": {},
     "output_type": "execute_result"
    }
   ],
   "source": [
    "# merge databases\n",
    "X_test_f = pd.merge(X_test_sc, X_test_oh, left_index=True, right_index=True)\n",
    "X_test_f.shape"
   ]
  },
  {
   "cell_type": "code",
   "execution_count": 760,
   "metadata": {},
   "outputs": [
    {
     "data": {
      "text/html": [
       "<div>\n",
       "<style scoped>\n",
       "    .dataframe tbody tr th:only-of-type {\n",
       "        vertical-align: middle;\n",
       "    }\n",
       "\n",
       "    .dataframe tbody tr th {\n",
       "        vertical-align: top;\n",
       "    }\n",
       "\n",
       "    .dataframe thead th {\n",
       "        text-align: right;\n",
       "    }\n",
       "</style>\n",
       "<table border=\"1\" class=\"dataframe\">\n",
       "  <thead>\n",
       "    <tr style=\"text-align: right;\">\n",
       "      <th></th>\n",
       "      <th>Age</th>\n",
       "      <th>DailyRate</th>\n",
       "      <th>DistanceFromHome</th>\n",
       "      <th>Education</th>\n",
       "      <th>EnvironmentSatisfaction</th>\n",
       "      <th>HourlyRate</th>\n",
       "      <th>JobInvolvement</th>\n",
       "      <th>JobLevel</th>\n",
       "      <th>JobSatisfaction</th>\n",
       "      <th>MonthlyIncome</th>\n",
       "      <th>MonthlyRate</th>\n",
       "      <th>NumCompaniesWorked</th>\n",
       "      <th>PercentSalaryHike</th>\n",
       "      <th>PerformanceRating</th>\n",
       "      <th>RelationshipSatisfaction</th>\n",
       "      <th>StockOptionLevel</th>\n",
       "      <th>TotalWorkingYears</th>\n",
       "      <th>TrainingTimesLastYear</th>\n",
       "      <th>WorkLifeBalance</th>\n",
       "      <th>YearsAtCompany</th>\n",
       "      <th>YearsInCurrentRole</th>\n",
       "      <th>YearsSinceLastPromotion</th>\n",
       "      <th>YearsWithCurrManager</th>\n",
       "      <th>BusinessTravel_Non-Travel</th>\n",
       "      <th>BusinessTravel_Travel_Frequently</th>\n",
       "      <th>BusinessTravel_Travel_Rarely</th>\n",
       "      <th>Department_Human Resources</th>\n",
       "      <th>Department_Research &amp; Development</th>\n",
       "      <th>Department_Sales</th>\n",
       "      <th>EducationField_Human Resources</th>\n",
       "      <th>EducationField_Life Sciences</th>\n",
       "      <th>EducationField_Marketing</th>\n",
       "      <th>EducationField_Medical</th>\n",
       "      <th>EducationField_Other</th>\n",
       "      <th>EducationField_Technical Degree</th>\n",
       "      <th>Gender_Female</th>\n",
       "      <th>Gender_Male</th>\n",
       "      <th>JobRole_Healthcare Representative</th>\n",
       "      <th>JobRole_Human Resources</th>\n",
       "      <th>JobRole_Laboratory Technician</th>\n",
       "      <th>JobRole_Manager</th>\n",
       "      <th>JobRole_Manufacturing Director</th>\n",
       "      <th>JobRole_Research Director</th>\n",
       "      <th>JobRole_Research Scientist</th>\n",
       "      <th>JobRole_Sales Executive</th>\n",
       "      <th>JobRole_Sales Representative</th>\n",
       "      <th>MaritalStatus_Divorced</th>\n",
       "      <th>MaritalStatus_Married</th>\n",
       "      <th>MaritalStatus_Single</th>\n",
       "      <th>OverTime_No</th>\n",
       "      <th>OverTime_Yes</th>\n",
       "      <th>Employee Source_Adzuna</th>\n",
       "      <th>Employee Source_Company Website</th>\n",
       "      <th>Employee Source_GlassDoor</th>\n",
       "      <th>Employee Source_Indeed</th>\n",
       "      <th>Employee Source_Jora</th>\n",
       "      <th>Employee Source_LinkedIn</th>\n",
       "      <th>Employee Source_Recruit.net</th>\n",
       "      <th>Employee Source_Referral</th>\n",
       "      <th>Employee Source_Seek</th>\n",
       "      <th>Employee Source_Test</th>\n",
       "    </tr>\n",
       "  </thead>\n",
       "  <tbody>\n",
       "    <tr>\n",
       "      <th>47</th>\n",
       "      <td>0.451180</td>\n",
       "      <td>-1.632534</td>\n",
       "      <td>-0.641749</td>\n",
       "      <td>0.089184</td>\n",
       "      <td>-1.563887</td>\n",
       "      <td>-0.480092</td>\n",
       "      <td>0.385196</td>\n",
       "      <td>-0.061440</td>\n",
       "      <td>-0.480092</td>\n",
       "      <td>0.602377</td>\n",
       "      <td>-0.670447</td>\n",
       "      <td>0.930916</td>\n",
       "      <td>0.761398</td>\n",
       "      <td>-0.426856</td>\n",
       "      <td>0.269089</td>\n",
       "      <td>-0.936913</td>\n",
       "      <td>-0.421933</td>\n",
       "      <td>1.706613</td>\n",
       "      <td>0.339228</td>\n",
       "      <td>0.158826</td>\n",
       "      <td>0.760973</td>\n",
       "      <td>1.491800</td>\n",
       "      <td>0.798056</td>\n",
       "      <td>0.0</td>\n",
       "      <td>1.0</td>\n",
       "      <td>0.0</td>\n",
       "      <td>0.0</td>\n",
       "      <td>0.0</td>\n",
       "      <td>1.0</td>\n",
       "      <td>0.0</td>\n",
       "      <td>1.0</td>\n",
       "      <td>0.0</td>\n",
       "      <td>0.0</td>\n",
       "      <td>0.0</td>\n",
       "      <td>0.0</td>\n",
       "      <td>0.0</td>\n",
       "      <td>1.0</td>\n",
       "      <td>0.0</td>\n",
       "      <td>0.0</td>\n",
       "      <td>0.0</td>\n",
       "      <td>0.0</td>\n",
       "      <td>0.0</td>\n",
       "      <td>0.0</td>\n",
       "      <td>0.0</td>\n",
       "      <td>1.0</td>\n",
       "      <td>0.0</td>\n",
       "      <td>0.0</td>\n",
       "      <td>0.0</td>\n",
       "      <td>1.0</td>\n",
       "      <td>1.0</td>\n",
       "      <td>0.0</td>\n",
       "      <td>1.0</td>\n",
       "      <td>0.0</td>\n",
       "      <td>0.0</td>\n",
       "      <td>0.0</td>\n",
       "      <td>0.0</td>\n",
       "      <td>0.0</td>\n",
       "      <td>0.0</td>\n",
       "      <td>0.0</td>\n",
       "      <td>0.0</td>\n",
       "      <td>0.0</td>\n",
       "    </tr>\n",
       "    <tr>\n",
       "      <th>15040</th>\n",
       "      <td>-0.207917</td>\n",
       "      <td>0.040245</td>\n",
       "      <td>-1.011677</td>\n",
       "      <td>0.089184</td>\n",
       "      <td>1.170791</td>\n",
       "      <td>0.945961</td>\n",
       "      <td>0.385196</td>\n",
       "      <td>0.842296</td>\n",
       "      <td>0.945961</td>\n",
       "      <td>2.420606</td>\n",
       "      <td>-1.375740</td>\n",
       "      <td>-0.673856</td>\n",
       "      <td>-1.150350</td>\n",
       "      <td>-0.426856</td>\n",
       "      <td>-0.656272</td>\n",
       "      <td>0.243801</td>\n",
       "      <td>-0.292763</td>\n",
       "      <td>0.157400</td>\n",
       "      <td>0.339228</td>\n",
       "      <td>-0.495077</td>\n",
       "      <td>-0.615636</td>\n",
       "      <td>-0.368220</td>\n",
       "      <td>-0.318320</td>\n",
       "      <td>0.0</td>\n",
       "      <td>0.0</td>\n",
       "      <td>1.0</td>\n",
       "      <td>0.0</td>\n",
       "      <td>1.0</td>\n",
       "      <td>0.0</td>\n",
       "      <td>0.0</td>\n",
       "      <td>0.0</td>\n",
       "      <td>0.0</td>\n",
       "      <td>1.0</td>\n",
       "      <td>0.0</td>\n",
       "      <td>0.0</td>\n",
       "      <td>0.0</td>\n",
       "      <td>1.0</td>\n",
       "      <td>1.0</td>\n",
       "      <td>0.0</td>\n",
       "      <td>0.0</td>\n",
       "      <td>0.0</td>\n",
       "      <td>0.0</td>\n",
       "      <td>0.0</td>\n",
       "      <td>0.0</td>\n",
       "      <td>0.0</td>\n",
       "      <td>0.0</td>\n",
       "      <td>1.0</td>\n",
       "      <td>0.0</td>\n",
       "      <td>0.0</td>\n",
       "      <td>1.0</td>\n",
       "      <td>0.0</td>\n",
       "      <td>0.0</td>\n",
       "      <td>0.0</td>\n",
       "      <td>0.0</td>\n",
       "      <td>0.0</td>\n",
       "      <td>1.0</td>\n",
       "      <td>0.0</td>\n",
       "      <td>0.0</td>\n",
       "      <td>0.0</td>\n",
       "      <td>0.0</td>\n",
       "      <td>0.0</td>\n",
       "    </tr>\n",
       "    <tr>\n",
       "      <th>7392</th>\n",
       "      <td>-0.976863</td>\n",
       "      <td>1.675795</td>\n",
       "      <td>0.837963</td>\n",
       "      <td>-0.882942</td>\n",
       "      <td>-0.652328</td>\n",
       "      <td>0.109999</td>\n",
       "      <td>1.793584</td>\n",
       "      <td>-0.061440</td>\n",
       "      <td>0.109999</td>\n",
       "      <td>-0.181442</td>\n",
       "      <td>-1.336354</td>\n",
       "      <td>-1.075049</td>\n",
       "      <td>1.034504</td>\n",
       "      <td>-0.426856</td>\n",
       "      <td>0.269089</td>\n",
       "      <td>-0.936913</td>\n",
       "      <td>-0.292763</td>\n",
       "      <td>-0.617207</td>\n",
       "      <td>0.339228</td>\n",
       "      <td>0.158826</td>\n",
       "      <td>-0.340315</td>\n",
       "      <td>-0.678223</td>\n",
       "      <td>0.798056</td>\n",
       "      <td>0.0</td>\n",
       "      <td>0.0</td>\n",
       "      <td>1.0</td>\n",
       "      <td>0.0</td>\n",
       "      <td>1.0</td>\n",
       "      <td>0.0</td>\n",
       "      <td>0.0</td>\n",
       "      <td>0.0</td>\n",
       "      <td>0.0</td>\n",
       "      <td>1.0</td>\n",
       "      <td>0.0</td>\n",
       "      <td>0.0</td>\n",
       "      <td>0.0</td>\n",
       "      <td>1.0</td>\n",
       "      <td>1.0</td>\n",
       "      <td>0.0</td>\n",
       "      <td>0.0</td>\n",
       "      <td>0.0</td>\n",
       "      <td>0.0</td>\n",
       "      <td>0.0</td>\n",
       "      <td>0.0</td>\n",
       "      <td>0.0</td>\n",
       "      <td>0.0</td>\n",
       "      <td>0.0</td>\n",
       "      <td>0.0</td>\n",
       "      <td>1.0</td>\n",
       "      <td>1.0</td>\n",
       "      <td>0.0</td>\n",
       "      <td>0.0</td>\n",
       "      <td>0.0</td>\n",
       "      <td>0.0</td>\n",
       "      <td>0.0</td>\n",
       "      <td>0.0</td>\n",
       "      <td>0.0</td>\n",
       "      <td>0.0</td>\n",
       "      <td>0.0</td>\n",
       "      <td>1.0</td>\n",
       "      <td>0.0</td>\n",
       "    </tr>\n",
       "    <tr>\n",
       "      <th>3900</th>\n",
       "      <td>-0.757164</td>\n",
       "      <td>0.506836</td>\n",
       "      <td>-0.765059</td>\n",
       "      <td>0.089184</td>\n",
       "      <td>1.170791</td>\n",
       "      <td>1.093484</td>\n",
       "      <td>0.385196</td>\n",
       "      <td>-0.965176</td>\n",
       "      <td>1.093484</td>\n",
       "      <td>-0.818852</td>\n",
       "      <td>-0.811393</td>\n",
       "      <td>-0.272663</td>\n",
       "      <td>-1.150350</td>\n",
       "      <td>-0.426856</td>\n",
       "      <td>0.269089</td>\n",
       "      <td>-0.936913</td>\n",
       "      <td>-0.421933</td>\n",
       "      <td>1.706613</td>\n",
       "      <td>0.339228</td>\n",
       "      <td>-0.331601</td>\n",
       "      <td>-0.615636</td>\n",
       "      <td>-0.678223</td>\n",
       "      <td>-0.039226</td>\n",
       "      <td>0.0</td>\n",
       "      <td>0.0</td>\n",
       "      <td>1.0</td>\n",
       "      <td>0.0</td>\n",
       "      <td>1.0</td>\n",
       "      <td>0.0</td>\n",
       "      <td>0.0</td>\n",
       "      <td>1.0</td>\n",
       "      <td>0.0</td>\n",
       "      <td>0.0</td>\n",
       "      <td>0.0</td>\n",
       "      <td>0.0</td>\n",
       "      <td>1.0</td>\n",
       "      <td>0.0</td>\n",
       "      <td>0.0</td>\n",
       "      <td>0.0</td>\n",
       "      <td>0.0</td>\n",
       "      <td>0.0</td>\n",
       "      <td>0.0</td>\n",
       "      <td>0.0</td>\n",
       "      <td>1.0</td>\n",
       "      <td>0.0</td>\n",
       "      <td>0.0</td>\n",
       "      <td>0.0</td>\n",
       "      <td>0.0</td>\n",
       "      <td>1.0</td>\n",
       "      <td>0.0</td>\n",
       "      <td>1.0</td>\n",
       "      <td>0.0</td>\n",
       "      <td>0.0</td>\n",
       "      <td>1.0</td>\n",
       "      <td>0.0</td>\n",
       "      <td>0.0</td>\n",
       "      <td>0.0</td>\n",
       "      <td>0.0</td>\n",
       "      <td>0.0</td>\n",
       "      <td>0.0</td>\n",
       "      <td>0.0</td>\n",
       "    </tr>\n",
       "    <tr>\n",
       "      <th>20988</th>\n",
       "      <td>0.561029</td>\n",
       "      <td>-1.319819</td>\n",
       "      <td>-0.888368</td>\n",
       "      <td>0.089184</td>\n",
       "      <td>1.170791</td>\n",
       "      <td>-0.480092</td>\n",
       "      <td>-1.023193</td>\n",
       "      <td>-0.965176</td>\n",
       "      <td>-0.480092</td>\n",
       "      <td>-0.832431</td>\n",
       "      <td>-0.888618</td>\n",
       "      <td>-0.673856</td>\n",
       "      <td>-1.150350</td>\n",
       "      <td>-0.426856</td>\n",
       "      <td>0.269089</td>\n",
       "      <td>0.243801</td>\n",
       "      <td>-0.163593</td>\n",
       "      <td>0.932007</td>\n",
       "      <td>0.339228</td>\n",
       "      <td>0.322302</td>\n",
       "      <td>0.485651</td>\n",
       "      <td>1.491800</td>\n",
       "      <td>1.077151</td>\n",
       "      <td>0.0</td>\n",
       "      <td>0.0</td>\n",
       "      <td>1.0</td>\n",
       "      <td>0.0</td>\n",
       "      <td>1.0</td>\n",
       "      <td>0.0</td>\n",
       "      <td>0.0</td>\n",
       "      <td>1.0</td>\n",
       "      <td>0.0</td>\n",
       "      <td>0.0</td>\n",
       "      <td>0.0</td>\n",
       "      <td>0.0</td>\n",
       "      <td>1.0</td>\n",
       "      <td>0.0</td>\n",
       "      <td>0.0</td>\n",
       "      <td>0.0</td>\n",
       "      <td>1.0</td>\n",
       "      <td>0.0</td>\n",
       "      <td>0.0</td>\n",
       "      <td>0.0</td>\n",
       "      <td>0.0</td>\n",
       "      <td>0.0</td>\n",
       "      <td>0.0</td>\n",
       "      <td>1.0</td>\n",
       "      <td>0.0</td>\n",
       "      <td>0.0</td>\n",
       "      <td>0.0</td>\n",
       "      <td>1.0</td>\n",
       "      <td>0.0</td>\n",
       "      <td>0.0</td>\n",
       "      <td>1.0</td>\n",
       "      <td>0.0</td>\n",
       "      <td>0.0</td>\n",
       "      <td>0.0</td>\n",
       "      <td>0.0</td>\n",
       "      <td>0.0</td>\n",
       "      <td>0.0</td>\n",
       "      <td>0.0</td>\n",
       "    </tr>\n",
       "  </tbody>\n",
       "</table>\n",
       "</div>"
      ],
      "text/plain": [
       "            Age  DailyRate  DistanceFromHome  Education  \\\n",
       "47     0.451180  -1.632534         -0.641749   0.089184   \n",
       "15040 -0.207917   0.040245         -1.011677   0.089184   \n",
       "7392  -0.976863   1.675795          0.837963  -0.882942   \n",
       "3900  -0.757164   0.506836         -0.765059   0.089184   \n",
       "20988  0.561029  -1.319819         -0.888368   0.089184   \n",
       "\n",
       "       EnvironmentSatisfaction  HourlyRate  JobInvolvement  JobLevel  \\\n",
       "47                   -1.563887   -0.480092        0.385196 -0.061440   \n",
       "15040                 1.170791    0.945961        0.385196  0.842296   \n",
       "7392                 -0.652328    0.109999        1.793584 -0.061440   \n",
       "3900                  1.170791    1.093484        0.385196 -0.965176   \n",
       "20988                 1.170791   -0.480092       -1.023193 -0.965176   \n",
       "\n",
       "       JobSatisfaction  MonthlyIncome  MonthlyRate  NumCompaniesWorked  \\\n",
       "47           -0.480092       0.602377    -0.670447            0.930916   \n",
       "15040         0.945961       2.420606    -1.375740           -0.673856   \n",
       "7392          0.109999      -0.181442    -1.336354           -1.075049   \n",
       "3900          1.093484      -0.818852    -0.811393           -0.272663   \n",
       "20988        -0.480092      -0.832431    -0.888618           -0.673856   \n",
       "\n",
       "       PercentSalaryHike  PerformanceRating  RelationshipSatisfaction  \\\n",
       "47              0.761398          -0.426856                  0.269089   \n",
       "15040          -1.150350          -0.426856                 -0.656272   \n",
       "7392            1.034504          -0.426856                  0.269089   \n",
       "3900           -1.150350          -0.426856                  0.269089   \n",
       "20988          -1.150350          -0.426856                  0.269089   \n",
       "\n",
       "       StockOptionLevel  TotalWorkingYears  TrainingTimesLastYear  \\\n",
       "47            -0.936913          -0.421933               1.706613   \n",
       "15040          0.243801          -0.292763               0.157400   \n",
       "7392          -0.936913          -0.292763              -0.617207   \n",
       "3900          -0.936913          -0.421933               1.706613   \n",
       "20988          0.243801          -0.163593               0.932007   \n",
       "\n",
       "       WorkLifeBalance  YearsAtCompany  YearsInCurrentRole  \\\n",
       "47            0.339228        0.158826            0.760973   \n",
       "15040         0.339228       -0.495077           -0.615636   \n",
       "7392          0.339228        0.158826           -0.340315   \n",
       "3900          0.339228       -0.331601           -0.615636   \n",
       "20988         0.339228        0.322302            0.485651   \n",
       "\n",
       "       YearsSinceLastPromotion  YearsWithCurrManager  \\\n",
       "47                    1.491800              0.798056   \n",
       "15040                -0.368220             -0.318320   \n",
       "7392                 -0.678223              0.798056   \n",
       "3900                 -0.678223             -0.039226   \n",
       "20988                 1.491800              1.077151   \n",
       "\n",
       "       BusinessTravel_Non-Travel  BusinessTravel_Travel_Frequently  \\\n",
       "47                           0.0                               1.0   \n",
       "15040                        0.0                               0.0   \n",
       "7392                         0.0                               0.0   \n",
       "3900                         0.0                               0.0   \n",
       "20988                        0.0                               0.0   \n",
       "\n",
       "       BusinessTravel_Travel_Rarely  Department_Human Resources  \\\n",
       "47                              0.0                         0.0   \n",
       "15040                           1.0                         0.0   \n",
       "7392                            1.0                         0.0   \n",
       "3900                            1.0                         0.0   \n",
       "20988                           1.0                         0.0   \n",
       "\n",
       "       Department_Research & Development  Department_Sales  \\\n",
       "47                                   0.0               1.0   \n",
       "15040                                1.0               0.0   \n",
       "7392                                 1.0               0.0   \n",
       "3900                                 1.0               0.0   \n",
       "20988                                1.0               0.0   \n",
       "\n",
       "       EducationField_Human Resources  EducationField_Life Sciences  \\\n",
       "47                                0.0                           1.0   \n",
       "15040                             0.0                           0.0   \n",
       "7392                              0.0                           0.0   \n",
       "3900                              0.0                           1.0   \n",
       "20988                             0.0                           1.0   \n",
       "\n",
       "       EducationField_Marketing  EducationField_Medical  EducationField_Other  \\\n",
       "47                          0.0                     0.0                   0.0   \n",
       "15040                       0.0                     1.0                   0.0   \n",
       "7392                        0.0                     1.0                   0.0   \n",
       "3900                        0.0                     0.0                   0.0   \n",
       "20988                       0.0                     0.0                   0.0   \n",
       "\n",
       "       EducationField_Technical Degree  Gender_Female  Gender_Male  \\\n",
       "47                                 0.0            0.0          1.0   \n",
       "15040                              0.0            0.0          1.0   \n",
       "7392                               0.0            0.0          1.0   \n",
       "3900                               0.0            1.0          0.0   \n",
       "20988                              0.0            1.0          0.0   \n",
       "\n",
       "       JobRole_Healthcare Representative  JobRole_Human Resources  \\\n",
       "47                                   0.0                      0.0   \n",
       "15040                                1.0                      0.0   \n",
       "7392                                 1.0                      0.0   \n",
       "3900                                 0.0                      0.0   \n",
       "20988                                0.0                      0.0   \n",
       "\n",
       "       JobRole_Laboratory Technician  JobRole_Manager  \\\n",
       "47                               0.0              0.0   \n",
       "15040                            0.0              0.0   \n",
       "7392                             0.0              0.0   \n",
       "3900                             0.0              0.0   \n",
       "20988                            1.0              0.0   \n",
       "\n",
       "       JobRole_Manufacturing Director  JobRole_Research Director  \\\n",
       "47                                0.0                        0.0   \n",
       "15040                             0.0                        0.0   \n",
       "7392                              0.0                        0.0   \n",
       "3900                              0.0                        0.0   \n",
       "20988                             0.0                        0.0   \n",
       "\n",
       "       JobRole_Research Scientist  JobRole_Sales Executive  \\\n",
       "47                            0.0                      1.0   \n",
       "15040                         0.0                      0.0   \n",
       "7392                          0.0                      0.0   \n",
       "3900                          1.0                      0.0   \n",
       "20988                         0.0                      0.0   \n",
       "\n",
       "       JobRole_Sales Representative  MaritalStatus_Divorced  \\\n",
       "47                              0.0                     0.0   \n",
       "15040                           0.0                     1.0   \n",
       "7392                            0.0                     0.0   \n",
       "3900                            0.0                     0.0   \n",
       "20988                           0.0                     1.0   \n",
       "\n",
       "       MaritalStatus_Married  MaritalStatus_Single  OverTime_No  OverTime_Yes  \\\n",
       "47                       0.0                   1.0          1.0           0.0   \n",
       "15040                    0.0                   0.0          1.0           0.0   \n",
       "7392                     0.0                   1.0          1.0           0.0   \n",
       "3900                     0.0                   1.0          0.0           1.0   \n",
       "20988                    0.0                   0.0          0.0           1.0   \n",
       "\n",
       "       Employee Source_Adzuna  Employee Source_Company Website  \\\n",
       "47                        1.0                              0.0   \n",
       "15040                     0.0                              0.0   \n",
       "7392                      0.0                              0.0   \n",
       "3900                      0.0                              0.0   \n",
       "20988                     0.0                              0.0   \n",
       "\n",
       "       Employee Source_GlassDoor  Employee Source_Indeed  \\\n",
       "47                           0.0                     0.0   \n",
       "15040                        0.0                     0.0   \n",
       "7392                         0.0                     0.0   \n",
       "3900                         1.0                     0.0   \n",
       "20988                        1.0                     0.0   \n",
       "\n",
       "       Employee Source_Jora  Employee Source_LinkedIn  \\\n",
       "47                      0.0                       0.0   \n",
       "15040                   1.0                       0.0   \n",
       "7392                    0.0                       0.0   \n",
       "3900                    0.0                       0.0   \n",
       "20988                   0.0                       0.0   \n",
       "\n",
       "       Employee Source_Recruit.net  Employee Source_Referral  \\\n",
       "47                             0.0                       0.0   \n",
       "15040                          0.0                       0.0   \n",
       "7392                           0.0                       0.0   \n",
       "3900                           0.0                       0.0   \n",
       "20988                          0.0                       0.0   \n",
       "\n",
       "       Employee Source_Seek  Employee Source_Test  \n",
       "47                      0.0                   0.0  \n",
       "15040                   0.0                   0.0  \n",
       "7392                    1.0                   0.0  \n",
       "3900                    0.0                   0.0  \n",
       "20988                   0.0                   0.0  "
      ]
     },
     "execution_count": 760,
     "metadata": {},
     "output_type": "execute_result"
    }
   ],
   "source": [
    "X_test_f.head()"
   ]
  },
  {
   "cell_type": "markdown",
   "metadata": {},
   "source": [
    "## Re-fit Top Model to Entire Training Set"
   ]
  },
  {
   "cell_type": "markdown",
   "metadata": {},
   "source": [
    "##### Stacked Model"
   ]
  },
  {
   "cell_type": "code",
   "execution_count": 761,
   "metadata": {},
   "outputs": [
    {
     "data": {
      "text/plain": [
       "0.9999680572414233"
      ]
     },
     "execution_count": 761,
     "metadata": {},
     "output_type": "execute_result"
    }
   ],
   "source": [
    "# fit model\n",
    "clf = clf.fit(X_train_sm, y_train_sm)\n",
    "# check accuracy\n",
    "clf.score(X_train_sm, y_train_sm)"
   ]
  },
  {
   "cell_type": "code",
   "execution_count": 762,
   "metadata": {},
   "outputs": [
    {
     "data": {
      "image/png": "[encoded data removed]",
      "text/plain": [
       "<Figure size 640x480 with 2 Axes>"
      ]
     },
     "metadata": {},
     "output_type": "display_data"
    }
   ],
   "source": [
    "# plot confusion matrix\n",
    "fig, ax = plt.subplots()\n",
    "\n",
    "fig.suptitle(\"CLF Entire Training Set Confusion Matrix \")\n",
    "\n",
    "plot_confusion_matrix(clf, X_train_sm, y_train_sm, ax=ax, cmap=\"plasma\");"
   ]
  },
  {
   "cell_type": "markdown",
   "metadata": {},
   "source": [
    "## Run Top Model on Test Data"
   ]
  },
  {
   "cell_type": "markdown",
   "metadata": {},
   "source": [
    "##### Stacked Model"
   ]
  },
  {
   "cell_type": "code",
   "execution_count": 764,
   "metadata": {},
   "outputs": [
    {
     "data": {
      "text/plain": [
       "0.9950441715147598"
      ]
     },
     "execution_count": 764,
     "metadata": {},
     "output_type": "execute_result"
    }
   ],
   "source": [
    "clf.score(X_test_f, y_test)"
   ]
  },
  {
   "cell_type": "code",
   "execution_count": 765,
   "metadata": {},
   "outputs": [
    {
     "name": "stdout",
     "output_type": "stream",
     "text": [
      "[[3873    4]\n",
      " [  19  745]]\n",
      "              precision    recall  f1-score   support\n",
      "\n",
      "           0       1.00      1.00      1.00      3877\n",
      "           1       0.99      0.98      0.98       764\n",
      "\n",
      "    accuracy                           1.00      4641\n",
      "   macro avg       0.99      0.99      0.99      4641\n",
      "weighted avg       1.00      1.00      1.00      4641\n",
      "\n"
     ]
    }
   ],
   "source": [
    "# set predictions\n",
    "pred_clf_test = clf.predict(X_test_f)\n",
    "\n",
    "# confusion matrix and classification report\n",
    "print(confusion_matrix(y_test, pred_clf_test))\n",
    "print(classification_report(y_test, pred_clf_test))"
   ]
  },
  {
   "cell_type": "code",
   "execution_count": 766,
   "metadata": {},
   "outputs": [
    {
     "data": {
      "image/png": "[encoded data removed]",
      "text/plain": [
       "<Figure size 640x480 with 2 Axes>"
      ]
     },
     "metadata": {},
     "output_type": "display_data"
    }
   ],
   "source": [
    "# plot confusion matrix\n",
    "fig, ax = plt.subplots()\n",
    "\n",
    "fig.suptitle(\"Stacked Model Test Data Confusion Matrix \")\n",
    "\n",
    "plot_confusion_matrix(clf, X_test_f, y_test, ax=ax, cmap=\"plasma\");"
   ]
  },
  {
   "cell_type": "markdown",
   "metadata": {},
   "source": [
    "## Visualizations"
   ]
  },
  {
   "cell_type": "markdown",
   "metadata": {},
   "source": [
    "### EDA"
   ]
  },
  {
   "cell_type": "code",
   "execution_count": 767,
   "metadata": {},
   "outputs": [
    {
     "data": {
      "text/plain": [
       "Age                        -0.152499\n",
       "Attrition                   1.000000\n",
       "DailyRate                  -0.057693\n",
       "DistanceFromHome            0.070526\n",
       "Education                  -0.034173\n",
       "EnvironmentSatisfaction    -0.049242\n",
       "HourlyRate                  0.012129\n",
       "JobInvolvement             -0.067376\n",
       "JobLevel                   -0.082734\n",
       "JobSatisfaction             0.012129\n",
       "MonthlyIncome              -0.077028\n",
       "MonthlyRate                -0.007611\n",
       "NumCompaniesWorked          0.041399\n",
       "PercentSalaryHike          -0.025954\n",
       "PerformanceRating          -0.006951\n",
       "RelationshipSatisfaction   -0.006423\n",
       "StockOptionLevel           -0.093956\n",
       "TotalWorkingYears          -0.082839\n",
       "TrainingTimesLastYear      -0.047668\n",
       "WorkLifeBalance            -0.026016\n",
       "YearsAtCompany             -0.061603\n",
       "YearsInCurrentRole         -0.085874\n",
       "YearsSinceLastPromotion    -0.019884\n",
       "YearsWithCurrManager       -0.066837\n",
       "Name: Attrition, dtype: float64"
      ]
     },
     "execution_count": 767,
     "metadata": {},
     "output_type": "execute_result"
    }
   ],
   "source": [
    "# create correlations for plotting correlation to target \"Attrition\"\n",
    "corr = df.corr().Attrition\n",
    "corr"
   ]
  },
  {
   "cell_type": "code",
   "execution_count": 768,
   "metadata": {},
   "outputs": [
    {
     "name": "stdout",
     "output_type": "stream",
     "text": [
      "['Age', 'Stockoptionlevel', 'Yearsincurrentrole', 'Totalworkingyears', 'Joblevel']\n",
      "[15.24993238235162, 9.39563458360493, 8.587435422465385, 8.283863982056682, 8.273424625510241]\n"
     ]
    },
    {
     "data": {
      "image/png": "[encoded data removed]",
      "text/plain": [
       "<Figure size 700x600 with 1 Axes>"
      ]
     },
     "metadata": {},
     "output_type": "display_data"
    }
   ],
   "source": [
    "# function to plot feature correlations\n",
    "def create_plot_of_feature_importances(coeff_dict, top_num=10, figsize=(7, 6), title='Feature Importances', xlabel='Feature', ylabel='Correlation Percentage', append_title='', prepend_title='', width=0.8, xrot=0, bar_colors=None, percent=None, save_path=None):\n",
    "    ''' \n",
    "    Inputs: \n",
    "    \n",
    "    model: A trained ensemble model instance\n",
    "    X: a dataframe of the features used to train the model\n",
    "    '''\n",
    "    dict_keys = [key for key in coeff_dict.keys()]\n",
    "    dict_values = [abs(value) for value in coeff_dict.values()]\n",
    "    \n",
    "    coeff_dict = {dict_keys[x]: dict_values[x] for x in range(len(dict_values))}\n",
    "    coeff_dict = dict(list(coeff_dict.items())[:])\n",
    "    features_and_importances = zip(coeff_dict.keys(), coeff_dict.values())\n",
    "    features_and_importances = sorted(features_and_importances, key = lambda x: x[1], reverse=True)\n",
    "    \n",
    "    features = [i[0].title() for i in features_and_importances[1:top_num+1]]\n",
    "    print(features)\n",
    "    importances = [abs(i[1])*100 for i in features_and_importances[1:top_num+1]]\n",
    "    print(importances)\n",
    "    plt.rcdefaults()\n",
    "    fig, ax = plt.subplots(figsize=figsize)\n",
    "#     width = .35\n",
    "    plt.bar(features, importances, width=width, color=bar_colors)\n",
    "    if percent:\n",
    "        ax.yaxis.set_major_formatter(PercentFormatter())\n",
    "#     plt.gca().invert_yaxis()\n",
    "    title = ' '.join([prepend_title, title, append_title])\n",
    "    plt.title(title)\n",
    "    plt.xlabel('Feature', fontsize=13)\n",
    "    plt.ylabel(ylabel, fontsize=13)\n",
    "    plt.xticks(rotation=xrot)\n",
    "    plt.axis('tight')\n",
    "    plt.tight_layout()\n",
    "    if save_path:\n",
    "        plt.savefig(save_path, transparent=True)\n",
    "min_percent = 0.12\n",
    "corr = df.corr().Attrition\n",
    "corr=dict(corr)\n",
    "create_plot_of_feature_importances(corr, title='Feature Correlelations to Attrition', top_num=5, width=0.5, percent=True)\n",
    "plt.xticks(rotation=-45);\n",
    "plt.savefig('../reports/figures/corrs.png', transparent=True);"
   ]
  },
  {
   "cell_type": "code",
   "execution_count": 769,
   "metadata": {},
   "outputs": [
    {
     "data": {
      "image/png": "[encoded data removed]",
      "text/plain": [
       "<Figure size 640x480 with 1 Axes>"
      ]
     },
     "metadata": {},
     "output_type": "display_data"
    }
   ],
   "source": [
    "# plot attrition by age\n",
    "df[df[\"Attrition\"] == 0]['Age'].hist(bins=35,label='Attrition = NO', alpha=0.6)\n",
    "df[df[\"Attrition\"] == 1]['Age'].hist(bins=35, label='Attrition = YES', alpha=0.6)\n",
    "plt.legend()\n",
    "plt.xlabel('Age')\n",
    "plt.savefig('../reports/figures/age_dist.png', transparent=True);"
   ]
  },
  {
   "cell_type": "code",
   "execution_count": 770,
   "metadata": {},
   "outputs": [
    {
     "data": {
      "image/png": "[encoded data removed]",
      "text/plain": [
       "<Figure size 1500x800 with 1 Axes>"
      ]
     },
     "metadata": {},
     "output_type": "display_data"
    }
   ],
   "source": [
    "# plot attrition by stock option levels\n",
    "f,ax = plt.subplots(figsize=(15,8))\n",
    "grouped_data = df[\"StockOptionLevel\"].groupby(df[\"Attrition\"]).value_counts(normalize = True).rename(\"Percentage of group\").reset_index()\n",
    "sns.barplot(x = \"StockOptionLevel\", y = \"Percentage of group\", hue = \"Attrition\", data = grouped_data)\n",
    "\n",
    "# convert y axis to percentage format\n",
    "vals = ax.get_yticks()\n",
    "ax.set_yticklabels(['{:,.0%}'.format(x) for x in vals])\n",
    "\n",
    "ax.set(title = \"Distribution of Stock Option Levels\")\n",
    "# plt.show()\n",
    "plt.savefig('../reports/figures/stock_dist.png', transparent=True);"
   ]
  },
  {
   "cell_type": "code",
   "execution_count": 771,
   "metadata": {},
   "outputs": [
    {
     "data": {
      "image/png": "[encoded data removed]",
      "text/plain": [
       "<Figure size 640x480 with 1 Axes>"
      ]
     },
     "metadata": {},
     "output_type": "display_data"
    }
   ],
   "source": [
    "# plot attrition by years in role\n",
    "df[df[\"Attrition\"] == 0]['YearsInCurrentRole'].hist(bins=35, label='Attrition = NO', alpha=0.6)\n",
    "df[df[\"Attrition\"] == 1]['YearsInCurrentRole'].hist(bins=35, label='Attrition = YES', alpha=0.6)\n",
    "plt.legend()\n",
    "plt.xlabel('YearsInCurrentRole');\n",
    "plt.savefig('../reports/figures/years_role_dist.png', transparent=True);"
   ]
  },
  {
   "cell_type": "markdown",
   "metadata": {},
   "source": [
    "### Model Feature Importances"
   ]
  },
  {
   "cell_type": "code",
   "execution_count": 782,
   "metadata": {},
   "outputs": [
    {
     "data": {
      "text/plain": [
       "array([9.40685213e-02, 5.84585389e-02, 4.44963959e-02, 2.26965059e-02,\n",
       "       1.75792002e-02, 3.89288799e-02, 1.51915561e-02, 1.88625452e-02,\n",
       "       3.89289176e-02, 4.77034938e-02, 3.89551759e-02, 1.63125342e-02,\n",
       "       2.75138483e-02, 5.43191555e-03, 1.62691915e-02, 3.60362924e-02,\n",
       "       4.13230814e-02, 2.21257226e-02, 1.37173756e-02, 2.96769144e-02,\n",
       "       2.70598112e-02, 2.12192985e-02, 2.50105251e-02, 2.44319014e-02,\n",
       "       9.01870506e-03, 1.27916888e-02, 1.22927873e-02, 2.72164272e-02,\n",
       "       6.32915521e-03, 2.32379122e-02, 3.40965142e-03, 1.13206156e-02,\n",
       "       8.16052959e-03, 2.28536111e-03, 5.25621920e-03, 2.50195300e-03,\n",
       "       5.41291963e-03, 2.39113523e-03, 5.91681353e-03, 4.68040177e-03,\n",
       "       3.94602531e-03, 7.63893370e-03, 1.68303595e-02, 4.56126750e-02,\n",
       "       8.48889994e-03, 5.12896967e-03, 5.39536649e-03, 6.30245937e-03,\n",
       "       5.13715705e-03, 3.95233150e-03, 1.96230086e-03, 5.36898116e-03,\n",
       "       1.51217417e-05])"
      ]
     },
     "execution_count": 782,
     "metadata": {},
     "output_type": "execute_result"
    }
   ],
   "source": [
    "# check feature importances from Random Forest model\n",
    "rfm2.feature_importances_"
   ]
  },
  {
   "cell_type": "code",
   "execution_count": 783,
   "metadata": {},
   "outputs": [
    {
     "data": {
      "text/plain": [
       "[(0.09406852129929472, 'Age'),\n",
       " (0.05845853887943243, 'DailyRate'),\n",
       " (0.04770349380938059, 'MonthlyIncome'),\n",
       " (0.04561267500851705, 'JobRole_Research Scientist'),\n",
       " (0.0444963958982302, 'DistanceFromHome'),\n",
       " (0.041323081413408465, 'TotalWorkingYears'),\n",
       " (0.038955175895189174, 'MonthlyRate'),\n",
       " (0.03892891757315684, 'JobSatisfaction'),\n",
       " (0.038928879880075234, 'HourlyRate'),\n",
       " (0.03603629240175544, 'StockOptionLevel'),\n",
       " (0.029676914399547144, 'YearsAtCompany'),\n",
       " (0.0275138482823741, 'PercentSalaryHike'),\n",
       " (0.02721642716031388, 'Department_Research & Development'),\n",
       " (0.027059811234903183, 'YearsInCurrentRole'),\n",
       " (0.02501052508510233, 'YearsWithCurrManager'),\n",
       " (0.024431901423804473, 'BusinessTravel_Non-Travel'),\n",
       " (0.0232379122205474, 'EducationField_Human Resources'),\n",
       " (0.022696505902863588, 'Education'),\n",
       " (0.02212572259252155, 'TrainingTimesLastYear'),\n",
       " (0.02121929850596256, 'YearsSinceLastPromotion'),\n",
       " (0.01886254519270423, 'JobLevel'),\n",
       " (0.017579200154899995, 'EnvironmentSatisfaction'),\n",
       " (0.016830359510162943, 'JobRole_Research Director'),\n",
       " (0.016312534169007006, 'NumCompaniesWorked'),\n",
       " (0.016269191516671336, 'RelationshipSatisfaction'),\n",
       " (0.015191556117470717, 'JobInvolvement'),\n",
       " (0.01371737563116103, 'WorkLifeBalance'),\n",
       " (0.012791688809458477, 'BusinessTravel_Travel_Rarely'),\n",
       " (0.012292787321458611, 'Department_Human Resources'),\n",
       " (0.011320615603704282, 'EducationField_Marketing'),\n",
       " (0.00901870506092125, 'BusinessTravel_Travel_Frequently'),\n",
       " (0.008488899944995248, 'JobRole_Sales Executive'),\n",
       " (0.008160529589407424, 'EducationField_Medical'),\n",
       " (0.007638933704585268, 'JobRole_Manufacturing Director'),\n",
       " (0.006329155211815345, 'Department_Sales'),\n",
       " (0.00630245936574366, 'MaritalStatus_Married'),\n",
       " (0.005916813532272252, 'JobRole_Human Resources'),\n",
       " (0.005431915550856432, 'PerformanceRating'),\n",
       " (0.005412919629425194, 'Gender_Male'),\n",
       " (0.005395366490509347, 'MaritalStatus_Divorced'),\n",
       " (0.005368981162214628, 'Employee Source_Adzuna'),\n",
       " (0.005256219201598513, 'EducationField_Technical Degree'),\n",
       " (0.0051371570535003455, 'MaritalStatus_Single'),\n",
       " (0.00512896966890126, 'JobRole_Sales Representative'),\n",
       " (0.0046804017722441565, 'JobRole_Laboratory Technician'),\n",
       " (0.003952331501711288, 'OverTime_No'),\n",
       " (0.003946025309430683, 'JobRole_Manager'),\n",
       " (0.0034096514152859836, 'EducationField_Life Sciences'),\n",
       " (0.0025019529956461658, 'Gender_Female'),\n",
       " (0.0023911352301120292, 'JobRole_Healthcare Representative'),\n",
       " (0.002285361111202733, 'EducationField_Other'),\n",
       " (0.0019623008628329957, 'OverTime_Yes'),\n",
       " (1.5121741708835304e-05, 'Employee Source_Company Website')]"
      ]
     },
     "execution_count": 783,
     "metadata": {},
     "output_type": "execute_result"
    }
   ],
   "source": [
    "# create list of feature importances \n",
    "importances = list(zip(rfm2.feature_importances_, X_test_f.columns))\n",
    "importances.sort(reverse=True)\n",
    "importances"
   ]
  },
  {
   "cell_type": "code",
   "execution_count": 784,
   "metadata": {},
   "outputs": [],
   "source": [
    "# create dictionary of top 5 feature importances\n",
    "RF_coeff_dict = {'Age': 0.09406852129929472,\n",
    " 'Monthly Income': 0.04770349380938059,\n",
    " 'JobRole_Research Scientist': 0.04561267500851705,\n",
    " 'Distance From Home': 0.0444963958982302,\n",
    " 'TotalWorkingYears': 0.041323081413408465}"
   ]
  },
  {
   "cell_type": "code",
   "execution_count": 785,
   "metadata": {},
   "outputs": [],
   "source": [
    "# function to plot feature importances\n",
    "def create_plot_of_feature_importances(coeff_dict, top_num=10, title='Feature Importances', append_title='Model', prepend_title=''):\n",
    "    ''' \n",
    "    Inputs: \n",
    "    \n",
    "    model: A trained ensemble model instance\n",
    "    X: a dataframe of the features used to train the model\n",
    "    '''\n",
    "    dict_keys = [key for key in coeff_dict.keys()]\n",
    "    dict_values = [abs(value) for value in coeff_dict.values()]\n",
    "    \n",
    "    coeff_dict = {dict_keys[x]: dict_values[x] for x in range(len(dict_values))}\n",
    "    coeff_dict = dict(list(coeff_dict.items())[:top_num])\n",
    "    features_and_importances = zip(coeff_dict.keys(), coeff_dict.values())\n",
    "    features_and_importances = sorted(features_and_importances, key = lambda x: x[1], reverse=True)\n",
    "    \n",
    "    features = [i[0] for i in features_and_importances]\n",
    "    importances = [abs(i[1]) for i in features_and_importances]\n",
    "    \n",
    "    plt.figure(figsize=(10, 6))\n",
    "    plt.barh(features, importances)\n",
    "    plt.gca().invert_yaxis()\n",
    "    title = ' '.join([prepend_title, title, append_title])\n",
    "    plt.title(title)\n",
    "    plt.xlabel('importance')\n",
    "    plt.tight_layout()"
   ]
  },
  {
   "cell_type": "code",
   "execution_count": 786,
   "metadata": {},
   "outputs": [
    {
     "data": {
      "image/png": "[encoded data removed]",
      "text/plain": [
       "<Figure size 1000x600 with 1 Axes>"
      ]
     },
     "metadata": {},
     "output_type": "display_data"
    }
   ],
   "source": [
    "# plor feature importances\n",
    "create_plot_of_feature_importances(RF_coeff_dict, prepend_title='')\n",
    "plt.savefig('../reports/figures/model_feat.png', transparent=True);"
   ]
  },
  {
   "cell_type": "markdown",
   "metadata": {},
   "source": [
    "## Summary"
   ]
  },
  {
   "cell_type": "markdown",
   "metadata": {},
   "source": [
    "By using CRISP - DM tecniques and machine learning algorithms I create a binary classification model with .97 accuracy. This model, used alongside an understanding of the business and employee base is helpful in accurately predicting when an employee will voluntarily leave the company.\n",
    "\n",
    "My initial data exploration finds a close correlation between age and attrition. Additionally, it identifies stock option level, years in current role, total working years, and job level as in the top five highest correlated features to attrition.\n",
    "\n",
    "My model feature importances also identify age as a top five feature importance. And if we assume daily rate, monthly income, hourly rate and monthly rate to be highly correlated with each other, then the next highest feature importance becomes total working years. Note this is also the fourth highest correlated feature identified in initial data exploration."
   ]
  },
  {
   "cell_type": "code",
   "execution_count": null,
   "metadata": {},
   "outputs": [],
   "source": []
  }
 ],
 "metadata": {
  "kernelspec": {
   "display_name": "Python 3",
   "language": "python",
   "name": "python3"
  },
  "language_info": {
   "codemirror_mode": {
    "name": "ipython",
    "version": 3
   },
   "file_extension": ".py",
   "mimetype": "text/x-python",
   "name": "python",
   "nbconvert_exporter": "python",
   "pygments_lexer": "ipython3",
   "version": "3.7.6"
  }
 },
 "nbformat": 4,
 "nbformat_minor": 4
}
